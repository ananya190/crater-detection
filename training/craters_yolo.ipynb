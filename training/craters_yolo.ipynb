{
  "cells": [
    {
      "cell_type": "markdown",
      "metadata": {
        "id": "BlzXISmg2PpZ"
      },
      "source": [
        "# Crater Detection using YOLOv8\n",
        "\n",
        "In this notebook, we will use the YOLOv8 object detection model to detect martian and lunar craters. The dataset will be downloaded from kaggle, and we will use the ultralytics implementation of YOLOv8."
      ]
    },
    {
      "cell_type": "markdown",
      "metadata": {
        "id": "CwhhrY222gam"
      },
      "source": [
        "## Setup"
      ]
    },
    {
      "cell_type": "code",
      "execution_count": 1,
      "metadata": {
        "colab": {
          "base_uri": "https://localhost:8080/"
        },
        "id": "F9lkf6Xxxc8W",
        "outputId": "edf873aa-4164-47a4-c7b5-2a585eec6080"
      },
      "outputs": [
        {
          "output_type": "stream",
          "name": "stdout",
          "text": [
            "Collecting ultralytics\n",
            "  Downloading ultralytics-8.2.5-py3-none-any.whl (754 kB)\n",
            "\u001b[2K     \u001b[90m━━━━━━━━━━━━━━━━━━━━━━━━━━━━━━━━━━━━━━━━\u001b[0m \u001b[32m755.0/755.0 kB\u001b[0m \u001b[31m2.4 MB/s\u001b[0m eta \u001b[36m0:00:00\u001b[0m\n",
            "\u001b[?25hRequirement already satisfied: matplotlib>=3.3.0 in /usr/local/lib/python3.10/dist-packages (from ultralytics) (3.7.1)\n",
            "Requirement already satisfied: opencv-python>=4.6.0 in /usr/local/lib/python3.10/dist-packages (from ultralytics) (4.8.0.76)\n",
            "Requirement already satisfied: pillow>=7.1.2 in /usr/local/lib/python3.10/dist-packages (from ultralytics) (9.4.0)\n",
            "Requirement already satisfied: pyyaml>=5.3.1 in /usr/local/lib/python3.10/dist-packages (from ultralytics) (6.0.1)\n",
            "Requirement already satisfied: requests>=2.23.0 in /usr/local/lib/python3.10/dist-packages (from ultralytics) (2.31.0)\n",
            "Requirement already satisfied: scipy>=1.4.1 in /usr/local/lib/python3.10/dist-packages (from ultralytics) (1.11.4)\n",
            "Requirement already satisfied: torch>=1.8.0 in /usr/local/lib/python3.10/dist-packages (from ultralytics) (2.2.1+cu121)\n",
            "Requirement already satisfied: torchvision>=0.9.0 in /usr/local/lib/python3.10/dist-packages (from ultralytics) (0.17.1+cu121)\n",
            "Requirement already satisfied: tqdm>=4.64.0 in /usr/local/lib/python3.10/dist-packages (from ultralytics) (4.66.2)\n",
            "Requirement already satisfied: psutil in /usr/local/lib/python3.10/dist-packages (from ultralytics) (5.9.5)\n",
            "Requirement already satisfied: py-cpuinfo in /usr/local/lib/python3.10/dist-packages (from ultralytics) (9.0.0)\n",
            "Collecting thop>=0.1.1 (from ultralytics)\n",
            "  Downloading thop-0.1.1.post2209072238-py3-none-any.whl (15 kB)\n",
            "Requirement already satisfied: pandas>=1.1.4 in /usr/local/lib/python3.10/dist-packages (from ultralytics) (2.0.3)\n",
            "Requirement already satisfied: seaborn>=0.11.0 in /usr/local/lib/python3.10/dist-packages (from ultralytics) (0.13.1)\n",
            "Requirement already satisfied: contourpy>=1.0.1 in /usr/local/lib/python3.10/dist-packages (from matplotlib>=3.3.0->ultralytics) (1.2.1)\n",
            "Requirement already satisfied: cycler>=0.10 in /usr/local/lib/python3.10/dist-packages (from matplotlib>=3.3.0->ultralytics) (0.12.1)\n",
            "Requirement already satisfied: fonttools>=4.22.0 in /usr/local/lib/python3.10/dist-packages (from matplotlib>=3.3.0->ultralytics) (4.51.0)\n",
            "Requirement already satisfied: kiwisolver>=1.0.1 in /usr/local/lib/python3.10/dist-packages (from matplotlib>=3.3.0->ultralytics) (1.4.5)\n",
            "Requirement already satisfied: numpy>=1.20 in /usr/local/lib/python3.10/dist-packages (from matplotlib>=3.3.0->ultralytics) (1.25.2)\n",
            "Requirement already satisfied: packaging>=20.0 in /usr/local/lib/python3.10/dist-packages (from matplotlib>=3.3.0->ultralytics) (24.0)\n",
            "Requirement already satisfied: pyparsing>=2.3.1 in /usr/local/lib/python3.10/dist-packages (from matplotlib>=3.3.0->ultralytics) (3.1.2)\n",
            "Requirement already satisfied: python-dateutil>=2.7 in /usr/local/lib/python3.10/dist-packages (from matplotlib>=3.3.0->ultralytics) (2.8.2)\n",
            "Requirement already satisfied: pytz>=2020.1 in /usr/local/lib/python3.10/dist-packages (from pandas>=1.1.4->ultralytics) (2023.4)\n",
            "Requirement already satisfied: tzdata>=2022.1 in /usr/local/lib/python3.10/dist-packages (from pandas>=1.1.4->ultralytics) (2024.1)\n",
            "Requirement already satisfied: charset-normalizer<4,>=2 in /usr/local/lib/python3.10/dist-packages (from requests>=2.23.0->ultralytics) (3.3.2)\n",
            "Requirement already satisfied: idna<4,>=2.5 in /usr/local/lib/python3.10/dist-packages (from requests>=2.23.0->ultralytics) (3.7)\n",
            "Requirement already satisfied: urllib3<3,>=1.21.1 in /usr/local/lib/python3.10/dist-packages (from requests>=2.23.0->ultralytics) (2.0.7)\n",
            "Requirement already satisfied: certifi>=2017.4.17 in /usr/local/lib/python3.10/dist-packages (from requests>=2.23.0->ultralytics) (2024.2.2)\n",
            "Requirement already satisfied: filelock in /usr/local/lib/python3.10/dist-packages (from torch>=1.8.0->ultralytics) (3.13.4)\n",
            "Requirement already satisfied: typing-extensions>=4.8.0 in /usr/local/lib/python3.10/dist-packages (from torch>=1.8.0->ultralytics) (4.11.0)\n",
            "Requirement already satisfied: sympy in /usr/local/lib/python3.10/dist-packages (from torch>=1.8.0->ultralytics) (1.12)\n",
            "Requirement already satisfied: networkx in /usr/local/lib/python3.10/dist-packages (from torch>=1.8.0->ultralytics) (3.3)\n",
            "Requirement already satisfied: jinja2 in /usr/local/lib/python3.10/dist-packages (from torch>=1.8.0->ultralytics) (3.1.3)\n",
            "Requirement already satisfied: fsspec in /usr/local/lib/python3.10/dist-packages (from torch>=1.8.0->ultralytics) (2023.6.0)\n",
            "Collecting nvidia-cuda-nvrtc-cu12==12.1.105 (from torch>=1.8.0->ultralytics)\n",
            "  Using cached nvidia_cuda_nvrtc_cu12-12.1.105-py3-none-manylinux1_x86_64.whl (23.7 MB)\n",
            "Collecting nvidia-cuda-runtime-cu12==12.1.105 (from torch>=1.8.0->ultralytics)\n",
            "  Using cached nvidia_cuda_runtime_cu12-12.1.105-py3-none-manylinux1_x86_64.whl (823 kB)\n",
            "Collecting nvidia-cuda-cupti-cu12==12.1.105 (from torch>=1.8.0->ultralytics)\n",
            "  Using cached nvidia_cuda_cupti_cu12-12.1.105-py3-none-manylinux1_x86_64.whl (14.1 MB)\n",
            "Collecting nvidia-cudnn-cu12==8.9.2.26 (from torch>=1.8.0->ultralytics)\n",
            "  Using cached nvidia_cudnn_cu12-8.9.2.26-py3-none-manylinux1_x86_64.whl (731.7 MB)\n",
            "Collecting nvidia-cublas-cu12==12.1.3.1 (from torch>=1.8.0->ultralytics)\n",
            "  Using cached nvidia_cublas_cu12-12.1.3.1-py3-none-manylinux1_x86_64.whl (410.6 MB)\n",
            "Collecting nvidia-cufft-cu12==11.0.2.54 (from torch>=1.8.0->ultralytics)\n",
            "  Using cached nvidia_cufft_cu12-11.0.2.54-py3-none-manylinux1_x86_64.whl (121.6 MB)\n",
            "Collecting nvidia-curand-cu12==10.3.2.106 (from torch>=1.8.0->ultralytics)\n",
            "  Using cached nvidia_curand_cu12-10.3.2.106-py3-none-manylinux1_x86_64.whl (56.5 MB)\n",
            "Collecting nvidia-cusolver-cu12==11.4.5.107 (from torch>=1.8.0->ultralytics)\n",
            "  Using cached nvidia_cusolver_cu12-11.4.5.107-py3-none-manylinux1_x86_64.whl (124.2 MB)\n",
            "Collecting nvidia-cusparse-cu12==12.1.0.106 (from torch>=1.8.0->ultralytics)\n",
            "  Using cached nvidia_cusparse_cu12-12.1.0.106-py3-none-manylinux1_x86_64.whl (196.0 MB)\n",
            "Collecting nvidia-nccl-cu12==2.19.3 (from torch>=1.8.0->ultralytics)\n",
            "  Using cached nvidia_nccl_cu12-2.19.3-py3-none-manylinux1_x86_64.whl (166.0 MB)\n",
            "Collecting nvidia-nvtx-cu12==12.1.105 (from torch>=1.8.0->ultralytics)\n",
            "  Using cached nvidia_nvtx_cu12-12.1.105-py3-none-manylinux1_x86_64.whl (99 kB)\n",
            "Requirement already satisfied: triton==2.2.0 in /usr/local/lib/python3.10/dist-packages (from torch>=1.8.0->ultralytics) (2.2.0)\n",
            "Collecting nvidia-nvjitlink-cu12 (from nvidia-cusolver-cu12==11.4.5.107->torch>=1.8.0->ultralytics)\n",
            "  Using cached nvidia_nvjitlink_cu12-12.4.127-py3-none-manylinux2014_x86_64.whl (21.1 MB)\n",
            "Requirement already satisfied: six>=1.5 in /usr/local/lib/python3.10/dist-packages (from python-dateutil>=2.7->matplotlib>=3.3.0->ultralytics) (1.16.0)\n",
            "Requirement already satisfied: MarkupSafe>=2.0 in /usr/local/lib/python3.10/dist-packages (from jinja2->torch>=1.8.0->ultralytics) (2.1.5)\n",
            "Requirement already satisfied: mpmath>=0.19 in /usr/local/lib/python3.10/dist-packages (from sympy->torch>=1.8.0->ultralytics) (1.3.0)\n",
            "Installing collected packages: nvidia-nvtx-cu12, nvidia-nvjitlink-cu12, nvidia-nccl-cu12, nvidia-curand-cu12, nvidia-cufft-cu12, nvidia-cuda-runtime-cu12, nvidia-cuda-nvrtc-cu12, nvidia-cuda-cupti-cu12, nvidia-cublas-cu12, nvidia-cusparse-cu12, nvidia-cudnn-cu12, nvidia-cusolver-cu12, thop, ultralytics\n",
            "Successfully installed nvidia-cublas-cu12-12.1.3.1 nvidia-cuda-cupti-cu12-12.1.105 nvidia-cuda-nvrtc-cu12-12.1.105 nvidia-cuda-runtime-cu12-12.1.105 nvidia-cudnn-cu12-8.9.2.26 nvidia-cufft-cu12-11.0.2.54 nvidia-curand-cu12-10.3.2.106 nvidia-cusolver-cu12-11.4.5.107 nvidia-cusparse-cu12-12.1.0.106 nvidia-nccl-cu12-2.19.3 nvidia-nvjitlink-cu12-12.4.127 nvidia-nvtx-cu12-12.1.105 thop-0.1.1.post2209072238 ultralytics-8.2.5\n"
          ]
        }
      ],
      "source": [
        "! pip install ultralytics"
      ]
    },
    {
      "cell_type": "code",
      "execution_count": 2,
      "metadata": {
        "id": "tW-pZKaZxgls"
      },
      "outputs": [],
      "source": [
        "!pip install -q kaggle"
      ]
    },
    {
      "cell_type": "markdown",
      "metadata": {
        "id": "XTxVYuFG2jbZ"
      },
      "source": [
        "### Kaggle setup to download the dataset\n",
        "\n",
        "Kaggle allows you to create an API token, and use it to download datasets using the command line. We use that token here, download and unzip the dataset, and we can use it as normal."
      ]
    },
    {
      "cell_type": "code",
      "execution_count": 3,
      "metadata": {
        "colab": {
          "base_uri": "https://localhost:8080/",
          "height": 92
        },
        "id": "EO78rgosygs5",
        "outputId": "d09b9f70-b6d5-4e0d-cded-6e5d34ce2eb1"
      },
      "outputs": [
        {
          "output_type": "display_data",
          "data": {
            "text/plain": [
              "<IPython.core.display.HTML object>"
            ],
            "text/html": [
              "\n",
              "     <input type=\"file\" id=\"files-250a3bc2-3843-4226-9524-8825138fb365\" name=\"files[]\" multiple disabled\n",
              "        style=\"border:none\" />\n",
              "     <output id=\"result-250a3bc2-3843-4226-9524-8825138fb365\">\n",
              "      Upload widget is only available when the cell has been executed in the\n",
              "      current browser session. Please rerun this cell to enable.\n",
              "      </output>\n",
              "      <script>// Copyright 2017 Google LLC\n",
              "//\n",
              "// Licensed under the Apache License, Version 2.0 (the \"License\");\n",
              "// you may not use this file except in compliance with the License.\n",
              "// You may obtain a copy of the License at\n",
              "//\n",
              "//      http://www.apache.org/licenses/LICENSE-2.0\n",
              "//\n",
              "// Unless required by applicable law or agreed to in writing, software\n",
              "// distributed under the License is distributed on an \"AS IS\" BASIS,\n",
              "// WITHOUT WARRANTIES OR CONDITIONS OF ANY KIND, either express or implied.\n",
              "// See the License for the specific language governing permissions and\n",
              "// limitations under the License.\n",
              "\n",
              "/**\n",
              " * @fileoverview Helpers for google.colab Python module.\n",
              " */\n",
              "(function(scope) {\n",
              "function span(text, styleAttributes = {}) {\n",
              "  const element = document.createElement('span');\n",
              "  element.textContent = text;\n",
              "  for (const key of Object.keys(styleAttributes)) {\n",
              "    element.style[key] = styleAttributes[key];\n",
              "  }\n",
              "  return element;\n",
              "}\n",
              "\n",
              "// Max number of bytes which will be uploaded at a time.\n",
              "const MAX_PAYLOAD_SIZE = 100 * 1024;\n",
              "\n",
              "function _uploadFiles(inputId, outputId) {\n",
              "  const steps = uploadFilesStep(inputId, outputId);\n",
              "  const outputElement = document.getElementById(outputId);\n",
              "  // Cache steps on the outputElement to make it available for the next call\n",
              "  // to uploadFilesContinue from Python.\n",
              "  outputElement.steps = steps;\n",
              "\n",
              "  return _uploadFilesContinue(outputId);\n",
              "}\n",
              "\n",
              "// This is roughly an async generator (not supported in the browser yet),\n",
              "// where there are multiple asynchronous steps and the Python side is going\n",
              "// to poll for completion of each step.\n",
              "// This uses a Promise to block the python side on completion of each step,\n",
              "// then passes the result of the previous step as the input to the next step.\n",
              "function _uploadFilesContinue(outputId) {\n",
              "  const outputElement = document.getElementById(outputId);\n",
              "  const steps = outputElement.steps;\n",
              "\n",
              "  const next = steps.next(outputElement.lastPromiseValue);\n",
              "  return Promise.resolve(next.value.promise).then((value) => {\n",
              "    // Cache the last promise value to make it available to the next\n",
              "    // step of the generator.\n",
              "    outputElement.lastPromiseValue = value;\n",
              "    return next.value.response;\n",
              "  });\n",
              "}\n",
              "\n",
              "/**\n",
              " * Generator function which is called between each async step of the upload\n",
              " * process.\n",
              " * @param {string} inputId Element ID of the input file picker element.\n",
              " * @param {string} outputId Element ID of the output display.\n",
              " * @return {!Iterable<!Object>} Iterable of next steps.\n",
              " */\n",
              "function* uploadFilesStep(inputId, outputId) {\n",
              "  const inputElement = document.getElementById(inputId);\n",
              "  inputElement.disabled = false;\n",
              "\n",
              "  const outputElement = document.getElementById(outputId);\n",
              "  outputElement.innerHTML = '';\n",
              "\n",
              "  const pickedPromise = new Promise((resolve) => {\n",
              "    inputElement.addEventListener('change', (e) => {\n",
              "      resolve(e.target.files);\n",
              "    });\n",
              "  });\n",
              "\n",
              "  const cancel = document.createElement('button');\n",
              "  inputElement.parentElement.appendChild(cancel);\n",
              "  cancel.textContent = 'Cancel upload';\n",
              "  const cancelPromise = new Promise((resolve) => {\n",
              "    cancel.onclick = () => {\n",
              "      resolve(null);\n",
              "    };\n",
              "  });\n",
              "\n",
              "  // Wait for the user to pick the files.\n",
              "  const files = yield {\n",
              "    promise: Promise.race([pickedPromise, cancelPromise]),\n",
              "    response: {\n",
              "      action: 'starting',\n",
              "    }\n",
              "  };\n",
              "\n",
              "  cancel.remove();\n",
              "\n",
              "  // Disable the input element since further picks are not allowed.\n",
              "  inputElement.disabled = true;\n",
              "\n",
              "  if (!files) {\n",
              "    return {\n",
              "      response: {\n",
              "        action: 'complete',\n",
              "      }\n",
              "    };\n",
              "  }\n",
              "\n",
              "  for (const file of files) {\n",
              "    const li = document.createElement('li');\n",
              "    li.append(span(file.name, {fontWeight: 'bold'}));\n",
              "    li.append(span(\n",
              "        `(${file.type || 'n/a'}) - ${file.size} bytes, ` +\n",
              "        `last modified: ${\n",
              "            file.lastModifiedDate ? file.lastModifiedDate.toLocaleDateString() :\n",
              "                                    'n/a'} - `));\n",
              "    const percent = span('0% done');\n",
              "    li.appendChild(percent);\n",
              "\n",
              "    outputElement.appendChild(li);\n",
              "\n",
              "    const fileDataPromise = new Promise((resolve) => {\n",
              "      const reader = new FileReader();\n",
              "      reader.onload = (e) => {\n",
              "        resolve(e.target.result);\n",
              "      };\n",
              "      reader.readAsArrayBuffer(file);\n",
              "    });\n",
              "    // Wait for the data to be ready.\n",
              "    let fileData = yield {\n",
              "      promise: fileDataPromise,\n",
              "      response: {\n",
              "        action: 'continue',\n",
              "      }\n",
              "    };\n",
              "\n",
              "    // Use a chunked sending to avoid message size limits. See b/62115660.\n",
              "    let position = 0;\n",
              "    do {\n",
              "      const length = Math.min(fileData.byteLength - position, MAX_PAYLOAD_SIZE);\n",
              "      const chunk = new Uint8Array(fileData, position, length);\n",
              "      position += length;\n",
              "\n",
              "      const base64 = btoa(String.fromCharCode.apply(null, chunk));\n",
              "      yield {\n",
              "        response: {\n",
              "          action: 'append',\n",
              "          file: file.name,\n",
              "          data: base64,\n",
              "        },\n",
              "      };\n",
              "\n",
              "      let percentDone = fileData.byteLength === 0 ?\n",
              "          100 :\n",
              "          Math.round((position / fileData.byteLength) * 100);\n",
              "      percent.textContent = `${percentDone}% done`;\n",
              "\n",
              "    } while (position < fileData.byteLength);\n",
              "  }\n",
              "\n",
              "  // All done.\n",
              "  yield {\n",
              "    response: {\n",
              "      action: 'complete',\n",
              "    }\n",
              "  };\n",
              "}\n",
              "\n",
              "scope.google = scope.google || {};\n",
              "scope.google.colab = scope.google.colab || {};\n",
              "scope.google.colab._files = {\n",
              "  _uploadFiles,\n",
              "  _uploadFilesContinue,\n",
              "};\n",
              "})(self);\n",
              "</script> "
            ]
          },
          "metadata": {}
        },
        {
          "output_type": "stream",
          "name": "stdout",
          "text": [
            "Saving kaggle.json to kaggle.json\n",
            "done\n"
          ]
        }
      ],
      "source": [
        "from google.colab import files\n",
        "files.upload()\n",
        "print(\"done\")"
      ]
    },
    {
      "cell_type": "code",
      "execution_count": 4,
      "metadata": {
        "id": "LlyKSZpgynQX"
      },
      "outputs": [],
      "source": [
        "!mkdir -p ~/.kaggle\n",
        "!cp kaggle.json ~/.kaggle/\n",
        "!chmod 600 /root/.kaggle/kaggle.json"
      ]
    },
    {
      "cell_type": "code",
      "execution_count": 5,
      "metadata": {
        "colab": {
          "base_uri": "https://localhost:8080/"
        },
        "id": "h4J7-uZVy1za",
        "outputId": "a94319ca-a10a-4a22-cdc2-6bf7057cf2e3"
      },
      "outputs": [
        {
          "output_type": "stream",
          "name": "stdout",
          "text": [
            "Downloading martianlunar-crater-detection-dataset.zip to /content\n",
            " 84% 62.0M/74.0M [00:00<00:00, 209MB/s]\n",
            "100% 74.0M/74.0M [00:00<00:00, 214MB/s]\n"
          ]
        }
      ],
      "source": [
        "!kaggle datasets download -d lincolnzh/martianlunar-crater-detection-dataset"
      ]
    },
    {
      "cell_type": "code",
      "execution_count": 6,
      "metadata": {
        "colab": {
          "base_uri": "https://localhost:8080/"
        },
        "id": "yMkPPTc2zUJs",
        "outputId": "ab3fe3b2-663b-440c-888d-bc695b5823f7"
      },
      "outputs": [
        {
          "output_type": "stream",
          "name": "stdout",
          "text": [
            "Archive:  martianlunar-crater-detection-dataset.zip\n",
            "  inflating: best.pt                 \n",
            "  inflating: craters/test/images/010_png.rf.fcf5e274562ee69a325f9d7a0b30767f.jpg  \n",
            "  inflating: craters/test/images/015_png.rf.7d5b2091b6339c9480a171a59c52c3b9.jpg  \n",
            "  inflating: craters/test/images/019_png.rf.1930cd277f9bf0e3fa57f2dcfee0385f.jpg  \n",
            "  inflating: craters/test/images/04_png.rf.81a7d6cbeb9dc09e5a8ecd40e185fc92.jpg  \n",
            "  inflating: craters/test/images/mars_crater--100-_jpg.rf.a2ad5867efb2d73e86d9d980ca40a9fe.jpg  \n",
            "  inflating: craters/test/images/mars_crater--108-_jpg.rf.9395f473f249e064dbfea078e2519a17.jpg  \n",
            "  inflating: craters/test/images/mars_crater--116-_jpg.rf.2e550a693a8800808e68848484716b95.jpg  \n",
            "  inflating: craters/test/images/mars_crater--117-_jpg.rf.b412b6593d102c5f9dda7bce79bb815c.jpg  \n",
            "  inflating: craters/test/images/mars_crater--12-_jpg.rf.26060e7ca4ca8781bcaf011b9b70b7db.jpg  \n",
            "  inflating: craters/test/images/mars_crater--25-_jpg.rf.a06bfa24b404b064ead471f56d636e0e.jpg  \n",
            "  inflating: craters/test/images/mars_crater--31-_jpg.rf.5030dfd316db1570d5f2ad396fa87d4d.jpg  \n",
            "  inflating: craters/test/images/mars_crater--32-_jpg.rf.2f0302a2f32a7b05f5c55e3dac97f1ea.jpg  \n",
            "  inflating: craters/test/images/mars_crater--33-_jpg.rf.baf9c7be01ba1f4b954e0e5be0560c80.jpg  \n",
            "  inflating: craters/test/images/mars_crater--46-_jpg.rf.369e88a43859f97a595d2091746600f4.jpg  \n",
            "  inflating: craters/test/images/mars_crater--51-_jpg.rf.2f21cd1782f9da8bb8f1ada8efa134a7.jpg  \n",
            "  inflating: craters/test/images/mars_crater--60-_jpg.rf.df89b1f82e171f73f5402c29b6637aa8.jpg  \n",
            "  inflating: craters/test/images/mars_crater--65-_jpg.rf.34ab64f1f6ce5a4b360ea66eae77d4b9.jpg  \n",
            "  inflating: craters/test/images/mars_crater--66-_jpg.rf.85564f58f27e684c94c8a0e484cc289e.jpg  \n",
            "  inflating: craters/test/images/mars_crater--97-_jpg.rf.63347c2ec963cf5c4ab641e1ba872df1.jpg  \n",
            "  inflating: craters/test/labels/010_png.rf.fcf5e274562ee69a325f9d7a0b30767f.txt  \n",
            "  inflating: craters/test/labels/015_png.rf.7d5b2091b6339c9480a171a59c52c3b9.txt  \n",
            "  inflating: craters/test/labels/019_png.rf.1930cd277f9bf0e3fa57f2dcfee0385f.txt  \n",
            "  inflating: craters/test/labels/04_png.rf.81a7d6cbeb9dc09e5a8ecd40e185fc92.txt  \n",
            "  inflating: craters/test/labels/mars_crater--100-_jpg.rf.a2ad5867efb2d73e86d9d980ca40a9fe.txt  \n",
            "  inflating: craters/test/labels/mars_crater--108-_jpg.rf.9395f473f249e064dbfea078e2519a17.txt  \n",
            "  inflating: craters/test/labels/mars_crater--116-_jpg.rf.2e550a693a8800808e68848484716b95.txt  \n",
            "  inflating: craters/test/labels/mars_crater--117-_jpg.rf.b412b6593d102c5f9dda7bce79bb815c.txt  \n",
            "  inflating: craters/test/labels/mars_crater--12-_jpg.rf.26060e7ca4ca8781bcaf011b9b70b7db.txt  \n",
            "  inflating: craters/test/labels/mars_crater--25-_jpg.rf.a06bfa24b404b064ead471f56d636e0e.txt  \n",
            "  inflating: craters/test/labels/mars_crater--31-_jpg.rf.5030dfd316db1570d5f2ad396fa87d4d.txt  \n",
            "  inflating: craters/test/labels/mars_crater--32-_jpg.rf.2f0302a2f32a7b05f5c55e3dac97f1ea.txt  \n",
            "  inflating: craters/test/labels/mars_crater--33-_jpg.rf.baf9c7be01ba1f4b954e0e5be0560c80.txt  \n",
            "  inflating: craters/test/labels/mars_crater--46-_jpg.rf.369e88a43859f97a595d2091746600f4.txt  \n",
            "  inflating: craters/test/labels/mars_crater--51-_jpg.rf.2f21cd1782f9da8bb8f1ada8efa134a7.txt  \n",
            "  inflating: craters/test/labels/mars_crater--60-_jpg.rf.df89b1f82e171f73f5402c29b6637aa8.txt  \n",
            "  inflating: craters/test/labels/mars_crater--65-_jpg.rf.34ab64f1f6ce5a4b360ea66eae77d4b9.txt  \n",
            "  inflating: craters/test/labels/mars_crater--66-_jpg.rf.85564f58f27e684c94c8a0e484cc289e.txt  \n",
            "  inflating: craters/test/labels/mars_crater--97-_jpg.rf.63347c2ec963cf5c4ab641e1ba872df1.txt  \n",
            "  inflating: craters/train/images/011_png.rf.8ac312b4898f0106d10b76952a55d237.jpg  \n",
            "  inflating: craters/train/images/012_png.rf.64da6ff4c62638096ee6e5bf689706bc.jpg  \n",
            "  inflating: craters/train/images/013_png.rf.ee44d5aa33fd33a1ed62ae233180f505.jpg  \n",
            "  inflating: craters/train/images/016_png.rf.1973f9540ae7f672257609a8e5721ab3.jpg  \n",
            "  inflating: craters/train/images/017_png.rf.1504c0d3ecbf20af6bc5114ca197a0dd.jpg  \n",
            "  inflating: craters/train/images/018_png.rf.2d4eed5581681fe83830e51634befdaf.jpg  \n",
            "  inflating: craters/train/images/01_png.rf.4d2ebc5ed98ad1e69d667aadbce63d53.jpg  \n",
            "  inflating: craters/train/images/020_png.rf.ce87f4889d7441275135633392f98ed7.jpg  \n",
            "  inflating: craters/train/images/022_png.rf.00ae4e655a2774bada1e254641482935.jpg  \n",
            "  inflating: craters/train/images/02_png.rf.610687947e4c92f77e6462104ec4b924.jpg  \n",
            "  inflating: craters/train/images/03_png.rf.8f7b31e14642026833b7c0dcd1832862.jpg  \n",
            "  inflating: craters/train/images/05_png.rf.844343145246e51e66a345419e1862bf.jpg  \n",
            "  inflating: craters/train/images/06_png.rf.aaf8c66b9e4d5e99a3dc70bae7f62c07.jpg  \n",
            "  inflating: craters/train/images/07_png.rf.3fba5e95c6827aa6c4132e70f2086555.jpg  \n",
            "  inflating: craters/train/images/08_png.rf.944efdd0f108140b368d7ad2c37426df.jpg  \n",
            "  inflating: craters/train/images/09_png.rf.3b796e77a5f0036af4cd4413fcbe07a5.jpg  \n",
            "  inflating: craters/train/images/mars_crater--0-_jpg.rf.40c1dec94c66ab07d9da8c74fa58d6f8.jpg  \n",
            "  inflating: craters/train/images/mars_crater--10-_jpg.rf.585b1aa305997e3055e86fcac72a806b.jpg  \n",
            "  inflating: craters/train/images/mars_crater--101-_jpg.rf.8f4eb1c77ab9e64d2fd691a6e0fcd3ec.jpg  \n",
            "  inflating: craters/train/images/mars_crater--102-_jpg.rf.9cdbcc724e2e7baf5c5c17aed91c769b.jpg  \n",
            "  inflating: craters/train/images/mars_crater--103-_jpg.rf.61597458910fb0eed55b415c9cbac3bf.jpg  \n",
            "  inflating: craters/train/images/mars_crater--105-_jpg.rf.338dccc756e50430460dfb6f6191d1c5.jpg  \n",
            "  inflating: craters/train/images/mars_crater--106-_jpg.rf.05aa3dbbbdc9651cb8c51d26c2847805.jpg  \n",
            "  inflating: craters/train/images/mars_crater--109-_jpg.rf.29afc1137114a2b872f484326254e949.jpg  \n",
            "  inflating: craters/train/images/mars_crater--11-_jpg.rf.9e8de286e3d84938f34bb6bf35825343.jpg  \n",
            "  inflating: craters/train/images/mars_crater--110-_jpg.rf.593f6a3d9aed98e7a08955e700765222.jpg  \n",
            "  inflating: craters/train/images/mars_crater--111-_jpg.rf.215f88d6bd7a6d86560754be694fc2f3.jpg  \n",
            "  inflating: craters/train/images/mars_crater--113-_jpg.rf.a7713d55de03a1a7487429d414e1005c.jpg  \n",
            "  inflating: craters/train/images/mars_crater--118-_jpg.rf.0a8b3fb0e1332e576901e596ad55e30a.jpg  \n",
            "  inflating: craters/train/images/mars_crater--119-_jpg.rf.5cd500a3dcc977038a875b5115f9eda4.jpg  \n",
            "  inflating: craters/train/images/mars_crater--120-_jpg.rf.a870131b0b5974e8351a32ade2d5f0f3.jpg  \n",
            "  inflating: craters/train/images/mars_crater--14-_jpg.rf.e050bff73578e2a9ad30e339b898f839.jpg  \n",
            "  inflating: craters/train/images/mars_crater--15-_jpg.rf.c669035a909b835be84fa4fc67bf3f40.jpg  \n",
            "  inflating: craters/train/images/mars_crater--16-_jpg.rf.bf5f6796b4ec5d351b47efae2e866934.jpg  \n",
            "  inflating: craters/train/images/mars_crater--17-_jpg.rf.c051d4c804f2fed2aa32999cc9fd0b48.jpg  \n",
            "  inflating: craters/train/images/mars_crater--18-_jpg.rf.8214037c811619bbe37024a557c9251f.jpg  \n",
            "  inflating: craters/train/images/mars_crater--19-_jpg.rf.a9e7485a270816a553c3d7e0c3fddd30.jpg  \n",
            "  inflating: craters/train/images/mars_crater--2-_jpg.rf.a65bb7ee68968509ac0b28df75e1f251.jpg  \n",
            "  inflating: craters/train/images/mars_crater--20-_jpg.rf.cb4c2603f4a62bbe96328c29cec6d68e.jpg  \n",
            "  inflating: craters/train/images/mars_crater--21-_jpg.rf.63688e718106a9b061bb702a298e7a54.jpg  \n",
            "  inflating: craters/train/images/mars_crater--22-_jpg.rf.3ed23daa3923c22a459593cb449a7336.jpg  \n",
            "  inflating: craters/train/images/mars_crater--24-_jpg.rf.4614bb6844fda70ea8a3b4f515cb7e8f.jpg  \n",
            "  inflating: craters/train/images/mars_crater--26-_jpg.rf.e34074ddcd6c44fa17b7a7689f7ddfa4.jpg  \n",
            "  inflating: craters/train/images/mars_crater--27-_jpg.rf.158fc0c6a694bba2f0afa44fd76a7f5a.jpg  \n",
            "  inflating: craters/train/images/mars_crater--3-_jpg.rf.17bb27df5c5e6a501f790342675bc145.jpg  \n",
            "  inflating: craters/train/images/mars_crater--30-_jpg.rf.0fb68bf5aece1859bc5f080e66b4fef1.jpg  \n",
            "  inflating: craters/train/images/mars_crater--34-_jpg.rf.5617051b3d6a801330f8d4f7df9e3239.jpg  \n",
            "  inflating: craters/train/images/mars_crater--35-_jpg.rf.826bc4b2a3a69c48144834f40d92439f.jpg  \n",
            "  inflating: craters/train/images/mars_crater--36-_jpg.rf.0100a780ad4217b29c2dc9b46deec040.jpg  \n",
            "  inflating: craters/train/images/mars_crater--37-_jpg.rf.c2a35d9de333416eb4d6d8f0d6b3310a.jpg  \n",
            "  inflating: craters/train/images/mars_crater--38-_jpg.rf.e6f3636efb075ba61dafa478e6b21de2.jpg  \n",
            "  inflating: craters/train/images/mars_crater--39-_jpg.rf.dbcaca888781a42f7bb3ce2c922da228.jpg  \n",
            "  inflating: craters/train/images/mars_crater--4-_jpg.rf.b31f215c27d917bdb7c7c545db2bc36b.jpg  \n",
            "  inflating: craters/train/images/mars_crater--41-_jpg.rf.5b367c681ccf0dfa9c5fddf287926d83.jpg  \n",
            "  inflating: craters/train/images/mars_crater--42-_jpg.rf.0cea1f9d9cf45fb141abf4e9aaae4c84.jpg  \n",
            "  inflating: craters/train/images/mars_crater--43-_jpg.rf.27ea7a65603205e491bc439c1d654cf4.jpg  \n",
            "  inflating: craters/train/images/mars_crater--44-_jpg.rf.627a604f51a4479d1f1660c5cf2af5c4.jpg  \n",
            "  inflating: craters/train/images/mars_crater--45-_jpg.rf.d69fa5e159ad8e5fe17b96deaba99c18.jpg  \n",
            "  inflating: craters/train/images/mars_crater--48-_jpg.rf.cc5528a8dcf4a11085a0a01d5c9084bc.jpg  \n",
            "  inflating: craters/train/images/mars_crater--49-_jpg.rf.5ea4703986c80bcfa03f0f99e4067c6f.jpg  \n",
            "  inflating: craters/train/images/mars_crater--5-_jpg.rf.6acb650edc64d6e1a02a0eef00e95113.jpg  \n",
            "  inflating: craters/train/images/mars_crater--50-_jpg.rf.02be16d199897982df8e6ea8f3e5818f.jpg  \n",
            "  inflating: craters/train/images/mars_crater--52-_jpg.rf.1a227f21c518775052f847053022cd86.jpg  \n",
            "  inflating: craters/train/images/mars_crater--53-_jpg.rf.20acc76fad4fecd456d4b0e77c9bbbb1.jpg  \n",
            "  inflating: craters/train/images/mars_crater--54-_jpg.rf.2313c9f439999313bfb527534bbdc501.jpg  \n",
            "  inflating: craters/train/images/mars_crater--55-_jpg.rf.452ea46e23156b2c86433eb9054b1a6a.jpg  \n",
            "  inflating: craters/train/images/mars_crater--56-_jpg.rf.6f0dcbff4ea66014aef178b840d29238.jpg  \n",
            "  inflating: craters/train/images/mars_crater--57-_jpg.rf.a783aaeaf00ae5d57bec64438050285f.jpg  \n",
            "  inflating: craters/train/images/mars_crater--58-_jpg.rf.d668b2f63bd183cb629754db3ff6cf1f.jpg  \n",
            "  inflating: craters/train/images/mars_crater--59-_jpg.rf.4f609e19d4f7f9987f696183edd87e99.jpg  \n",
            "  inflating: craters/train/images/mars_crater--6-_jpg.rf.ebff635e74e807f0377c656009482d1c.jpg  \n",
            "  inflating: craters/train/images/mars_crater--61-_jpg.rf.1398b749af6c18cf177cc97396129bd0.jpg  \n",
            "  inflating: craters/train/images/mars_crater--62-_jpg.rf.18dd7779b62fb78d5f07060fec32079d.jpg  \n",
            "  inflating: craters/train/images/mars_crater--68-_jpg.rf.e503921bd751aed3cfd662cda03ab6b6.jpg  \n",
            "  inflating: craters/train/images/mars_crater--69-_jpg.rf.8677e1c58b60bd19c197032d3e749cda.jpg  \n",
            "  inflating: craters/train/images/mars_crater--7-_jpg.rf.84b2a78c125aa0230712626eb381a2b4.jpg  \n",
            "  inflating: craters/train/images/mars_crater--70-_jpg.rf.30c918cda3fcb18a9ff9ce047e0a93a0.jpg  \n",
            "  inflating: craters/train/images/mars_crater--71-_jpg.rf.3370d6bdc02cbe6643f7509228f2ee10.jpg  \n",
            "  inflating: craters/train/images/mars_crater--74-_jpg.rf.259a2b0955c98b2b468d63917ae13796.jpg  \n",
            "  inflating: craters/train/images/mars_crater--75-_jpg.rf.210df1cf8ebc1b962b63621720ecf926.jpg  \n",
            "  inflating: craters/train/images/mars_crater--76-_jpg.rf.050c14a337ce70de3519fe6049640831.jpg  \n",
            "  inflating: craters/train/images/mars_crater--77-_jpg.rf.64732a16676a6c3222f67571cf1d6618.jpg  \n",
            "  inflating: craters/train/images/mars_crater--78-_jpg.rf.d960fe84ae55c6b91be086d8e8a8ed32.jpg  \n",
            "  inflating: craters/train/images/mars_crater--8-_jpg.rf.85af0fa193ad2d5b0087dc48ec7341c6.jpg  \n",
            "  inflating: craters/train/images/mars_crater--80-_jpg.rf.55cff0d5b6e2587b15ba97e5f6a3a5f5.jpg  \n",
            "  inflating: craters/train/images/mars_crater--81-_jpg.rf.147703ba93a36a6a753992752f0a1789.jpg  \n",
            "  inflating: craters/train/images/mars_crater--82-_jpg.rf.c3ba3759df63259b6ba3df175475d3ce.jpg  \n",
            "  inflating: craters/train/images/mars_crater--83-_jpg.rf.3a468d2f7715d1cf73d5a31d385e0c34.jpg  \n",
            "  inflating: craters/train/images/mars_crater--84-_jpg.rf.dcfe6c285ac885441a1c95d818b188e1.jpg  \n",
            "  inflating: craters/train/images/mars_crater--85-_jpg.rf.344998b46a84deb2b8802cdae98c5282.jpg  \n",
            "  inflating: craters/train/images/mars_crater--86-_jpg.rf.81699898067809e7560109fb72a56670.jpg  \n",
            "  inflating: craters/train/images/mars_crater--87-_jpg.rf.649d603d5617ce66e4a9420539fbfebb.jpg  \n",
            "  inflating: craters/train/images/mars_crater--88-_jpg.rf.2f3b851dec48a94bfccc6519b4a45859.jpg  \n",
            "  inflating: craters/train/images/mars_crater--9-_jpg.rf.64378015a647ef92689e24ea103644cd.jpg  \n",
            "  inflating: craters/train/images/mars_crater--93-_jpg.rf.7426ac666cec74a8b0bc15d550b8699b.jpg  \n",
            "  inflating: craters/train/images/mars_crater--94-_jpg.rf.a1d59711147871b0498b03c2042c7b56.jpg  \n",
            "  inflating: craters/train/images/mars_crater--96-_jpg.rf.6dca8e5264f81785f8d718f92f9e4475.jpg  \n",
            "  inflating: craters/train/images/mars_crater--99-_jpg.rf.09682f4dbe2f52ffe890061454306153.jpg  \n",
            "  inflating: craters/train/labels.cache  \n",
            "  inflating: craters/train/labels/011_png.rf.8ac312b4898f0106d10b76952a55d237.txt  \n",
            "  inflating: craters/train/labels/012_png.rf.64da6ff4c62638096ee6e5bf689706bc.txt  \n",
            "  inflating: craters/train/labels/013_png.rf.ee44d5aa33fd33a1ed62ae233180f505.txt  \n",
            "  inflating: craters/train/labels/016_png.rf.1973f9540ae7f672257609a8e5721ab3.txt  \n",
            "  inflating: craters/train/labels/017_png.rf.1504c0d3ecbf20af6bc5114ca197a0dd.txt  \n",
            "  inflating: craters/train/labels/018_png.rf.2d4eed5581681fe83830e51634befdaf.txt  \n",
            "  inflating: craters/train/labels/01_png.rf.4d2ebc5ed98ad1e69d667aadbce63d53.txt  \n",
            "  inflating: craters/train/labels/020_png.rf.ce87f4889d7441275135633392f98ed7.txt  \n",
            "  inflating: craters/train/labels/022_png.rf.00ae4e655a2774bada1e254641482935.txt  \n",
            "  inflating: craters/train/labels/02_png.rf.610687947e4c92f77e6462104ec4b924.txt  \n",
            "  inflating: craters/train/labels/03_png.rf.8f7b31e14642026833b7c0dcd1832862.txt  \n",
            "  inflating: craters/train/labels/05_png.rf.844343145246e51e66a345419e1862bf.txt  \n",
            "  inflating: craters/train/labels/06_png.rf.aaf8c66b9e4d5e99a3dc70bae7f62c07.txt  \n",
            "  inflating: craters/train/labels/07_png.rf.3fba5e95c6827aa6c4132e70f2086555.txt  \n",
            "  inflating: craters/train/labels/08_png.rf.944efdd0f108140b368d7ad2c37426df.txt  \n",
            "  inflating: craters/train/labels/09_png.rf.3b796e77a5f0036af4cd4413fcbe07a5.txt  \n",
            "  inflating: craters/train/labels/mars_crater--0-_jpg.rf.40c1dec94c66ab07d9da8c74fa58d6f8.txt  \n",
            "  inflating: craters/train/labels/mars_crater--10-_jpg.rf.585b1aa305997e3055e86fcac72a806b.txt  \n",
            "  inflating: craters/train/labels/mars_crater--101-_jpg.rf.8f4eb1c77ab9e64d2fd691a6e0fcd3ec.txt  \n",
            "  inflating: craters/train/labels/mars_crater--102-_jpg.rf.9cdbcc724e2e7baf5c5c17aed91c769b.txt  \n",
            "  inflating: craters/train/labels/mars_crater--103-_jpg.rf.61597458910fb0eed55b415c9cbac3bf.txt  \n",
            "  inflating: craters/train/labels/mars_crater--105-_jpg.rf.338dccc756e50430460dfb6f6191d1c5.txt  \n",
            "  inflating: craters/train/labels/mars_crater--106-_jpg.rf.05aa3dbbbdc9651cb8c51d26c2847805.txt  \n",
            "  inflating: craters/train/labels/mars_crater--109-_jpg.rf.29afc1137114a2b872f484326254e949.txt  \n",
            "  inflating: craters/train/labels/mars_crater--11-_jpg.rf.9e8de286e3d84938f34bb6bf35825343.txt  \n",
            "  inflating: craters/train/labels/mars_crater--110-_jpg.rf.593f6a3d9aed98e7a08955e700765222.txt  \n",
            "  inflating: craters/train/labels/mars_crater--111-_jpg.rf.215f88d6bd7a6d86560754be694fc2f3.txt  \n",
            "  inflating: craters/train/labels/mars_crater--113-_jpg.rf.a7713d55de03a1a7487429d414e1005c.txt  \n",
            "  inflating: craters/train/labels/mars_crater--118-_jpg.rf.0a8b3fb0e1332e576901e596ad55e30a.txt  \n",
            "  inflating: craters/train/labels/mars_crater--119-_jpg.rf.5cd500a3dcc977038a875b5115f9eda4.txt  \n",
            "  inflating: craters/train/labels/mars_crater--120-_jpg.rf.a870131b0b5974e8351a32ade2d5f0f3.txt  \n",
            "  inflating: craters/train/labels/mars_crater--14-_jpg.rf.e050bff73578e2a9ad30e339b898f839.txt  \n",
            "  inflating: craters/train/labels/mars_crater--15-_jpg.rf.c669035a909b835be84fa4fc67bf3f40.txt  \n",
            "  inflating: craters/train/labels/mars_crater--16-_jpg.rf.bf5f6796b4ec5d351b47efae2e866934.txt  \n",
            "  inflating: craters/train/labels/mars_crater--17-_jpg.rf.c051d4c804f2fed2aa32999cc9fd0b48.txt  \n",
            "  inflating: craters/train/labels/mars_crater--18-_jpg.rf.8214037c811619bbe37024a557c9251f.txt  \n",
            "  inflating: craters/train/labels/mars_crater--19-_jpg.rf.a9e7485a270816a553c3d7e0c3fddd30.txt  \n",
            "  inflating: craters/train/labels/mars_crater--2-_jpg.rf.a65bb7ee68968509ac0b28df75e1f251.txt  \n",
            "  inflating: craters/train/labels/mars_crater--20-_jpg.rf.cb4c2603f4a62bbe96328c29cec6d68e.txt  \n",
            "  inflating: craters/train/labels/mars_crater--21-_jpg.rf.63688e718106a9b061bb702a298e7a54.txt  \n",
            "  inflating: craters/train/labels/mars_crater--22-_jpg.rf.3ed23daa3923c22a459593cb449a7336.txt  \n",
            "  inflating: craters/train/labels/mars_crater--24-_jpg.rf.4614bb6844fda70ea8a3b4f515cb7e8f.txt  \n",
            "  inflating: craters/train/labels/mars_crater--26-_jpg.rf.e34074ddcd6c44fa17b7a7689f7ddfa4.txt  \n",
            "  inflating: craters/train/labels/mars_crater--27-_jpg.rf.158fc0c6a694bba2f0afa44fd76a7f5a.txt  \n",
            "  inflating: craters/train/labels/mars_crater--3-_jpg.rf.17bb27df5c5e6a501f790342675bc145.txt  \n",
            "  inflating: craters/train/labels/mars_crater--30-_jpg.rf.0fb68bf5aece1859bc5f080e66b4fef1.txt  \n",
            "  inflating: craters/train/labels/mars_crater--34-_jpg.rf.5617051b3d6a801330f8d4f7df9e3239.txt  \n",
            "  inflating: craters/train/labels/mars_crater--35-_jpg.rf.826bc4b2a3a69c48144834f40d92439f.txt  \n",
            "  inflating: craters/train/labels/mars_crater--36-_jpg.rf.0100a780ad4217b29c2dc9b46deec040.txt  \n",
            "  inflating: craters/train/labels/mars_crater--37-_jpg.rf.c2a35d9de333416eb4d6d8f0d6b3310a.txt  \n",
            "  inflating: craters/train/labels/mars_crater--38-_jpg.rf.e6f3636efb075ba61dafa478e6b21de2.txt  \n",
            "  inflating: craters/train/labels/mars_crater--39-_jpg.rf.dbcaca888781a42f7bb3ce2c922da228.txt  \n",
            "  inflating: craters/train/labels/mars_crater--4-_jpg.rf.b31f215c27d917bdb7c7c545db2bc36b.txt  \n",
            "  inflating: craters/train/labels/mars_crater--41-_jpg.rf.5b367c681ccf0dfa9c5fddf287926d83.txt  \n",
            "  inflating: craters/train/labels/mars_crater--42-_jpg.rf.0cea1f9d9cf45fb141abf4e9aaae4c84.txt  \n",
            "  inflating: craters/train/labels/mars_crater--43-_jpg.rf.27ea7a65603205e491bc439c1d654cf4.txt  \n",
            "  inflating: craters/train/labels/mars_crater--44-_jpg.rf.627a604f51a4479d1f1660c5cf2af5c4.txt  \n",
            "  inflating: craters/train/labels/mars_crater--45-_jpg.rf.d69fa5e159ad8e5fe17b96deaba99c18.txt  \n",
            "  inflating: craters/train/labels/mars_crater--48-_jpg.rf.cc5528a8dcf4a11085a0a01d5c9084bc.txt  \n",
            "  inflating: craters/train/labels/mars_crater--49-_jpg.rf.5ea4703986c80bcfa03f0f99e4067c6f.txt  \n",
            "  inflating: craters/train/labels/mars_crater--5-_jpg.rf.6acb650edc64d6e1a02a0eef00e95113.txt  \n",
            "  inflating: craters/train/labels/mars_crater--50-_jpg.rf.02be16d199897982df8e6ea8f3e5818f.txt  \n",
            "  inflating: craters/train/labels/mars_crater--52-_jpg.rf.1a227f21c518775052f847053022cd86.txt  \n",
            "  inflating: craters/train/labels/mars_crater--53-_jpg.rf.20acc76fad4fecd456d4b0e77c9bbbb1.txt  \n",
            "  inflating: craters/train/labels/mars_crater--54-_jpg.rf.2313c9f439999313bfb527534bbdc501.txt  \n",
            "  inflating: craters/train/labels/mars_crater--55-_jpg.rf.452ea46e23156b2c86433eb9054b1a6a.txt  \n",
            "  inflating: craters/train/labels/mars_crater--56-_jpg.rf.6f0dcbff4ea66014aef178b840d29238.txt  \n",
            "  inflating: craters/train/labels/mars_crater--57-_jpg.rf.a783aaeaf00ae5d57bec64438050285f.txt  \n",
            "  inflating: craters/train/labels/mars_crater--58-_jpg.rf.d668b2f63bd183cb629754db3ff6cf1f.txt  \n",
            "  inflating: craters/train/labels/mars_crater--59-_jpg.rf.4f609e19d4f7f9987f696183edd87e99.txt  \n",
            "  inflating: craters/train/labels/mars_crater--6-_jpg.rf.ebff635e74e807f0377c656009482d1c.txt  \n",
            "  inflating: craters/train/labels/mars_crater--61-_jpg.rf.1398b749af6c18cf177cc97396129bd0.txt  \n",
            "  inflating: craters/train/labels/mars_crater--62-_jpg.rf.18dd7779b62fb78d5f07060fec32079d.txt  \n",
            "  inflating: craters/train/labels/mars_crater--68-_jpg.rf.e503921bd751aed3cfd662cda03ab6b6.txt  \n",
            "  inflating: craters/train/labels/mars_crater--69-_jpg.rf.8677e1c58b60bd19c197032d3e749cda.txt  \n",
            "  inflating: craters/train/labels/mars_crater--7-_jpg.rf.84b2a78c125aa0230712626eb381a2b4.txt  \n",
            "  inflating: craters/train/labels/mars_crater--70-_jpg.rf.30c918cda3fcb18a9ff9ce047e0a93a0.txt  \n",
            "  inflating: craters/train/labels/mars_crater--71-_jpg.rf.3370d6bdc02cbe6643f7509228f2ee10.txt  \n",
            "  inflating: craters/train/labels/mars_crater--74-_jpg.rf.259a2b0955c98b2b468d63917ae13796.txt  \n",
            "  inflating: craters/train/labels/mars_crater--75-_jpg.rf.210df1cf8ebc1b962b63621720ecf926.txt  \n",
            "  inflating: craters/train/labels/mars_crater--76-_jpg.rf.050c14a337ce70de3519fe6049640831.txt  \n",
            "  inflating: craters/train/labels/mars_crater--77-_jpg.rf.64732a16676a6c3222f67571cf1d6618.txt  \n",
            "  inflating: craters/train/labels/mars_crater--78-_jpg.rf.d960fe84ae55c6b91be086d8e8a8ed32.txt  \n",
            "  inflating: craters/train/labels/mars_crater--8-_jpg.rf.85af0fa193ad2d5b0087dc48ec7341c6.txt  \n",
            "  inflating: craters/train/labels/mars_crater--80-_jpg.rf.55cff0d5b6e2587b15ba97e5f6a3a5f5.txt  \n",
            "  inflating: craters/train/labels/mars_crater--81-_jpg.rf.147703ba93a36a6a753992752f0a1789.txt  \n",
            "  inflating: craters/train/labels/mars_crater--82-_jpg.rf.c3ba3759df63259b6ba3df175475d3ce.txt  \n",
            "  inflating: craters/train/labels/mars_crater--83-_jpg.rf.3a468d2f7715d1cf73d5a31d385e0c34.txt  \n",
            "  inflating: craters/train/labels/mars_crater--84-_jpg.rf.dcfe6c285ac885441a1c95d818b188e1.txt  \n",
            "  inflating: craters/train/labels/mars_crater--85-_jpg.rf.344998b46a84deb2b8802cdae98c5282.txt  \n",
            "  inflating: craters/train/labels/mars_crater--86-_jpg.rf.81699898067809e7560109fb72a56670.txt  \n",
            "  inflating: craters/train/labels/mars_crater--87-_jpg.rf.649d603d5617ce66e4a9420539fbfebb.txt  \n",
            "  inflating: craters/train/labels/mars_crater--88-_jpg.rf.2f3b851dec48a94bfccc6519b4a45859.txt  \n",
            "  inflating: craters/train/labels/mars_crater--9-_jpg.rf.64378015a647ef92689e24ea103644cd.txt  \n",
            "  inflating: craters/train/labels/mars_crater--93-_jpg.rf.7426ac666cec74a8b0bc15d550b8699b.txt  \n",
            "  inflating: craters/train/labels/mars_crater--94-_jpg.rf.a1d59711147871b0498b03c2042c7b56.txt  \n",
            "  inflating: craters/train/labels/mars_crater--96-_jpg.rf.6dca8e5264f81785f8d718f92f9e4475.txt  \n",
            "  inflating: craters/train/labels/mars_crater--99-_jpg.rf.09682f4dbe2f52ffe890061454306153.txt  \n",
            "  inflating: craters/valid/images/014_png.rf.6b86c8afeb3ebca92872fd966d076adc.jpg  \n",
            "  inflating: craters/valid/images/021_png.rf.575e0f1cb87a2cc439172de15816c2cc.jpg  \n",
            "  inflating: craters/valid/images/023_png.rf.0a3106bdcc8e64bba283f961db77c9ec.jpg  \n",
            "  inflating: craters/valid/images/024_png.rf.be24000681f4f356e2a027fb7ca0c552.jpg  \n",
            "  inflating: craters/valid/images/mars_crater--1-_png.rf.f1b399f95708fd0ce520f23c9944ed44.jpg  \n",
            "  inflating: craters/valid/images/mars_crater--104-_jpg.rf.2ff6036b976ac6bbba612dd48f144d4d.jpg  \n",
            "  inflating: craters/valid/images/mars_crater--107-_jpg.rf.eb0f7061ed8c8af8be0e8af6b97226b0.jpg  \n",
            "  inflating: craters/valid/images/mars_crater--115-_jpg.rf.8b1bf8c37395c894e88e543ccb4cc42f.jpg  \n",
            "  inflating: craters/valid/images/mars_crater--13-_jpg.rf.f6fc01f728dfec8b32ad59d696a1a08d.jpg  \n",
            "  inflating: craters/valid/images/mars_crater--2-_png.rf.08b565c861e9ac03e3cd1f9b0a6cddbe.jpg  \n",
            "  inflating: craters/valid/images/mars_crater--23-_jpg.rf.ab2b0f47006c0c17260c312215dcfb88.jpg  \n",
            "  inflating: craters/valid/images/mars_crater--28-_jpg.rf.8a4c9991d6739123bd0cbf018ea6f50d.jpg  \n",
            "  inflating: craters/valid/images/mars_crater--29-_jpg.rf.719ff6d6c1aafd71147c173f7d224018.jpg  \n",
            "  inflating: craters/valid/images/mars_crater--40-_jpg.rf.29e123c14a95b2e0fcdc93e9e8cff902.jpg  \n",
            "  inflating: craters/valid/images/mars_crater--47-_jpg.rf.63eed086b1d39dc52405a398229dc586.jpg  \n",
            "  inflating: craters/valid/images/mars_crater--63-_jpg.rf.ab0440022651f886c68744a55eb215d9.jpg  \n",
            "  inflating: craters/valid/images/mars_crater--64-_jpg.rf.fd0838698f86dd546cdfcfea987b98b2.jpg  \n",
            "  inflating: craters/valid/images/mars_crater--67-_jpg.rf.cf856f9fde7eb10f7f1524ebb0024502.jpg  \n",
            "  inflating: craters/valid/images/mars_crater--72-_jpg.rf.4e01fbde7746b57082310e11b1ff03e2.jpg  \n",
            "  inflating: craters/valid/images/mars_crater--73-_jpg.rf.91d7dc2cc9ae2d5dee41207d8992c3b3.jpg  \n",
            "  inflating: craters/valid/images/mars_crater--79-_jpg.rf.984de20cb547cf4ee0324ebbf3fb7a88.jpg  \n",
            "  inflating: craters/valid/images/mars_crater--89-_jpg.rf.a57ed45379b066a537e1203ac9827a27.jpg  \n",
            "  inflating: craters/valid/images/mars_crater--91-_jpg.rf.9203caee622cf671580b91536e36e7e2.jpg  \n",
            "  inflating: craters/valid/images/mars_crater--92-_jpg.rf.608e45488b76786c69755a901c1b73c9.jpg  \n",
            "  inflating: craters/valid/images/mars_crater--95-_jpg.rf.671f7041e41a37f7faec12f3e9eb1d7d.jpg  \n",
            "  inflating: craters/valid/images/mars_crater--98-_jpg.rf.441572398e83f5d7769a8e57248c9248.jpg  \n",
            "  inflating: craters/valid/labels.cache  \n",
            "  inflating: craters/valid/labels/014_png.rf.6b86c8afeb3ebca92872fd966d076adc.txt  \n",
            "  inflating: craters/valid/labels/021_png.rf.575e0f1cb87a2cc439172de15816c2cc.txt  \n",
            "  inflating: craters/valid/labels/023_png.rf.0a3106bdcc8e64bba283f961db77c9ec.txt  \n",
            "  inflating: craters/valid/labels/024_png.rf.be24000681f4f356e2a027fb7ca0c552.txt  \n",
            "  inflating: craters/valid/labels/mars_crater--1-_png.rf.f1b399f95708fd0ce520f23c9944ed44.txt  \n",
            "  inflating: craters/valid/labels/mars_crater--104-_jpg.rf.2ff6036b976ac6bbba612dd48f144d4d.txt  \n",
            "  inflating: craters/valid/labels/mars_crater--107-_jpg.rf.eb0f7061ed8c8af8be0e8af6b97226b0.txt  \n",
            "  inflating: craters/valid/labels/mars_crater--115-_jpg.rf.8b1bf8c37395c894e88e543ccb4cc42f.txt  \n",
            "  inflating: craters/valid/labels/mars_crater--13-_jpg.rf.f6fc01f728dfec8b32ad59d696a1a08d.txt  \n",
            "  inflating: craters/valid/labels/mars_crater--2-_png.rf.08b565c861e9ac03e3cd1f9b0a6cddbe.txt  \n",
            "  inflating: craters/valid/labels/mars_crater--23-_jpg.rf.ab2b0f47006c0c17260c312215dcfb88.txt  \n",
            "  inflating: craters/valid/labels/mars_crater--28-_jpg.rf.8a4c9991d6739123bd0cbf018ea6f50d.txt  \n",
            "  inflating: craters/valid/labels/mars_crater--29-_jpg.rf.719ff6d6c1aafd71147c173f7d224018.txt  \n",
            "  inflating: craters/valid/labels/mars_crater--40-_jpg.rf.29e123c14a95b2e0fcdc93e9e8cff902.txt  \n",
            "  inflating: craters/valid/labels/mars_crater--47-_jpg.rf.63eed086b1d39dc52405a398229dc586.txt  \n",
            "  inflating: craters/valid/labels/mars_crater--63-_jpg.rf.ab0440022651f886c68744a55eb215d9.txt  \n",
            "  inflating: craters/valid/labels/mars_crater--64-_jpg.rf.fd0838698f86dd546cdfcfea987b98b2.txt  \n",
            "  inflating: craters/valid/labels/mars_crater--67-_jpg.rf.cf856f9fde7eb10f7f1524ebb0024502.txt  \n",
            "  inflating: craters/valid/labels/mars_crater--72-_jpg.rf.4e01fbde7746b57082310e11b1ff03e2.txt  \n",
            "  inflating: craters/valid/labels/mars_crater--73-_jpg.rf.91d7dc2cc9ae2d5dee41207d8992c3b3.txt  \n",
            "  inflating: craters/valid/labels/mars_crater--79-_jpg.rf.984de20cb547cf4ee0324ebbf3fb7a88.txt  \n",
            "  inflating: craters/valid/labels/mars_crater--89-_jpg.rf.a57ed45379b066a537e1203ac9827a27.txt  \n",
            "  inflating: craters/valid/labels/mars_crater--91-_jpg.rf.9203caee622cf671580b91536e36e7e2.txt  \n",
            "  inflating: craters/valid/labels/mars_crater--92-_jpg.rf.608e45488b76786c69755a901c1b73c9.txt  \n",
            "  inflating: craters/valid/labels/mars_crater--95-_jpg.rf.671f7041e41a37f7faec12f3e9eb1d7d.txt  \n",
            "  inflating: craters/valid/labels/mars_crater--98-_jpg.rf.441572398e83f5d7769a8e57248c9248.txt  \n",
            "done\n"
          ]
        }
      ],
      "source": [
        "!unzip martianlunar-crater-detection-dataset.zip\n",
        "print(\"done\")"
      ]
    },
    {
      "cell_type": "markdown",
      "metadata": {
        "id": "5ayUj3hj3QH4"
      },
      "source": [
        "## Dataset setup"
      ]
    },
    {
      "cell_type": "code",
      "source": [
        "!rm -rf /content/craters/working/\n",
        "!mkdir -p /content/craters/working/images /content/craters/working/labels\n",
        "\n",
        "!cp -a /content/craters/train/images/. /content/craters/working/images\n",
        "!cp -a /content/craters/train/labels/. /content/craters/working/labels\n",
        "!cp -a /content/craters/valid/images/. /content/craters/working/images\n",
        "!cp -a /content/craters/valid/labels/. /content/craters/working/labels"
      ],
      "metadata": {
        "id": "rWCMRjn0BKhW"
      },
      "execution_count": 7,
      "outputs": []
    },
    {
      "cell_type": "markdown",
      "metadata": {
        "id": "31dF_BGz24X_"
      },
      "source": [
        "To direct the model to the dataset, we must create a yaml config file containing the dataset information. The config file should look like this:\n",
        "\n",
        "```yaml\n",
        "path: /path/to/dataset\n",
        "train: train/images # path to train images\n",
        "val: val/images # path to validation images\n",
        "test: test/images # path to test images\n",
        "\n",
        "# Classes\n",
        "names:\n",
        "    0: crater\n",
        "```\n",
        "\n",
        "Here, the yaml file is in the root directory, and is named `data_config.yaml`"
      ]
    },
    {
      "cell_type": "code",
      "source": [
        "import os\n",
        "import yaml\n",
        "\n",
        "data_config = {\"path\": \"/content/craters\", \"train\":\"working/images\", \"val\":\"test/images\", \"names\":{0:\"crater\"}}\n",
        "\n",
        "with open(\"/content/data_config.yaml\",\"w\") as yamlfile:\n",
        "  yaml.dump(data_config, yamlfile, default_flow_style=False)\n"
      ],
      "metadata": {
        "id": "ENeqzkZuRosF"
      },
      "execution_count": 8,
      "outputs": []
    },
    {
      "cell_type": "markdown",
      "metadata": {
        "id": "V412WFR22xqF"
      },
      "source": [
        "## Training the model"
      ]
    },
    {
      "cell_type": "code",
      "execution_count": 9,
      "metadata": {
        "id": "oLUxnSs5zkos"
      },
      "outputs": [],
      "source": [
        "from ultralytics import YOLO"
      ]
    },
    {
      "cell_type": "code",
      "execution_count": 10,
      "metadata": {
        "id": "5H3Am-_GzzGG"
      },
      "outputs": [],
      "source": [
        "# model = YOLO(\"yolov8n.yaml\") # trains model from scratch\n",
        "model = YOLO(\"yolov8s.yaml\")"
      ]
    },
    {
      "cell_type": "code",
      "execution_count": 11,
      "metadata": {
        "colab": {
          "base_uri": "https://localhost:8080/"
        },
        "id": "xhfOc5Hd0A7a",
        "outputId": "04a115a6-b263-481d-f536-eb7ed288c6c9"
      },
      "outputs": [
        {
          "output_type": "stream",
          "name": "stdout",
          "text": [
            "Ultralytics YOLOv8.2.5 🚀 Python-3.10.12 torch-2.2.1+cu121 CUDA:0 (Tesla T4, 15102MiB)\n",
            "\u001b[34m\u001b[1mengine/trainer: \u001b[0mtask=detect, mode=train, model=yolov8s.yaml, data=/content/data_config.yaml, epochs=25, time=None, patience=100, batch=8, imgsz=640, save=True, save_period=-1, cache=False, device=None, workers=8, project=None, name=train, exist_ok=False, pretrained=True, optimizer=SGD, verbose=True, seed=0, deterministic=True, single_cls=True, rect=False, cos_lr=False, close_mosaic=10, resume=False, amp=True, fraction=1.0, profile=False, freeze=None, multi_scale=False, overlap_mask=True, mask_ratio=4, dropout=0.0, val=True, split=val, save_json=False, save_hybrid=False, conf=None, iou=0.7, max_det=300, half=False, dnn=False, plots=True, source=None, vid_stride=1, stream_buffer=False, visualize=False, augment=False, agnostic_nms=False, classes=None, retina_masks=False, embed=None, show=False, save_frames=False, save_txt=False, save_conf=False, save_crop=False, show_labels=True, show_conf=True, show_boxes=True, line_width=None, format=torchscript, keras=False, optimize=False, int8=False, dynamic=False, simplify=False, opset=None, workspace=4, nms=False, lr0=0.01, lrf=0.01, momentum=0.937, weight_decay=0.0005, warmup_epochs=3.0, warmup_momentum=0.8, warmup_bias_lr=0.1, box=7.5, cls=0.5, dfl=1.5, pose=12.0, kobj=1.0, label_smoothing=0.0, nbs=64, hsv_h=0.015, hsv_s=0.7, hsv_v=0.4, degrees=0.0, translate=0.1, scale=0.5, shear=0.0, perspective=0.0, flipud=0.0, fliplr=0.5, bgr=0.0, mosaic=1.0, mixup=0.0, copy_paste=0.0, auto_augment=randaugment, erasing=0.4, crop_fraction=1.0, cfg=None, tracker=botsort.yaml, save_dir=runs/detect/train\n",
            "Downloading https://ultralytics.com/assets/Arial.ttf to '/root/.config/Ultralytics/Arial.ttf'...\n"
          ]
        },
        {
          "output_type": "stream",
          "name": "stderr",
          "text": [
            "100%|██████████| 755k/755k [00:00<00:00, 14.5MB/s]\n"
          ]
        },
        {
          "output_type": "stream",
          "name": "stdout",
          "text": [
            "Overriding model.yaml nc=80 with nc=1\n",
            "\n",
            "                   from  n    params  module                                       arguments                     \n",
            "  0                  -1  1       928  ultralytics.nn.modules.conv.Conv             [3, 32, 3, 2]                 \n",
            "  1                  -1  1     18560  ultralytics.nn.modules.conv.Conv             [32, 64, 3, 2]                \n",
            "  2                  -1  1     29056  ultralytics.nn.modules.block.C2f             [64, 64, 1, True]             \n",
            "  3                  -1  1     73984  ultralytics.nn.modules.conv.Conv             [64, 128, 3, 2]               \n",
            "  4                  -1  2    197632  ultralytics.nn.modules.block.C2f             [128, 128, 2, True]           \n",
            "  5                  -1  1    295424  ultralytics.nn.modules.conv.Conv             [128, 256, 3, 2]              \n",
            "  6                  -1  2    788480  ultralytics.nn.modules.block.C2f             [256, 256, 2, True]           \n",
            "  7                  -1  1   1180672  ultralytics.nn.modules.conv.Conv             [256, 512, 3, 2]              \n",
            "  8                  -1  1   1838080  ultralytics.nn.modules.block.C2f             [512, 512, 1, True]           \n",
            "  9                  -1  1    656896  ultralytics.nn.modules.block.SPPF            [512, 512, 5]                 \n",
            " 10                  -1  1         0  torch.nn.modules.upsampling.Upsample         [None, 2, 'nearest']          \n",
            " 11             [-1, 6]  1         0  ultralytics.nn.modules.conv.Concat           [1]                           \n",
            " 12                  -1  1    591360  ultralytics.nn.modules.block.C2f             [768, 256, 1]                 \n",
            " 13                  -1  1         0  torch.nn.modules.upsampling.Upsample         [None, 2, 'nearest']          \n",
            " 14             [-1, 4]  1         0  ultralytics.nn.modules.conv.Concat           [1]                           \n",
            " 15                  -1  1    148224  ultralytics.nn.modules.block.C2f             [384, 128, 1]                 \n",
            " 16                  -1  1    147712  ultralytics.nn.modules.conv.Conv             [128, 128, 3, 2]              \n",
            " 17            [-1, 12]  1         0  ultralytics.nn.modules.conv.Concat           [1]                           \n",
            " 18                  -1  1    493056  ultralytics.nn.modules.block.C2f             [384, 256, 1]                 \n",
            " 19                  -1  1    590336  ultralytics.nn.modules.conv.Conv             [256, 256, 3, 2]              \n",
            " 20             [-1, 9]  1         0  ultralytics.nn.modules.conv.Concat           [1]                           \n",
            " 21                  -1  1   1969152  ultralytics.nn.modules.block.C2f             [768, 512, 1]                 \n",
            " 22        [15, 18, 21]  1   2116435  ultralytics.nn.modules.head.Detect           [1, [128, 256, 512]]          \n",
            "YOLOv8s summary: 225 layers, 11135987 parameters, 11135971 gradients, 28.6 GFLOPs\n",
            "\n",
            "\u001b[34m\u001b[1mTensorBoard: \u001b[0mStart with 'tensorboard --logdir runs/detect/train', view at http://localhost:6006/\n",
            "Freezing layer 'model.22.dfl.conv.weight'\n",
            "\u001b[34m\u001b[1mAMP: \u001b[0mrunning Automatic Mixed Precision (AMP) checks with YOLOv8n...\n",
            "Downloading https://github.com/ultralytics/assets/releases/download/v8.2.0/yolov8n.pt to 'yolov8n.pt'...\n"
          ]
        },
        {
          "output_type": "stream",
          "name": "stderr",
          "text": [
            "100%|██████████| 6.23M/6.23M [00:00<00:00, 77.1MB/s]\n"
          ]
        },
        {
          "output_type": "stream",
          "name": "stdout",
          "text": [
            "\u001b[34m\u001b[1mAMP: \u001b[0mchecks passed ✅\n"
          ]
        },
        {
          "output_type": "stream",
          "name": "stderr",
          "text": [
            "\u001b[34m\u001b[1mtrain: \u001b[0mScanning /content/craters/working/labels... 124 images, 11 backgrounds, 0 corrupt: 100%|██████████| 124/124 [00:00<00:00, 1597.11it/s]"
          ]
        },
        {
          "output_type": "stream",
          "name": "stdout",
          "text": [
            "\u001b[34m\u001b[1mtrain: \u001b[0mNew cache created: /content/craters/working/labels.cache\n"
          ]
        },
        {
          "output_type": "stream",
          "name": "stderr",
          "text": [
            "\n"
          ]
        },
        {
          "output_type": "stream",
          "name": "stdout",
          "text": [
            "\u001b[34m\u001b[1malbumentations: \u001b[0mBlur(p=0.01, blur_limit=(3, 7)), MedianBlur(p=0.01, blur_limit=(3, 7)), ToGray(p=0.01), CLAHE(p=0.01, clip_limit=(1, 4.0), tile_grid_size=(8, 8))\n"
          ]
        },
        {
          "output_type": "stream",
          "name": "stderr",
          "text": [
            "/usr/lib/python3.10/multiprocessing/popen_fork.py:66: RuntimeWarning: os.fork() was called. os.fork() is incompatible with multithreaded code, and JAX is multithreaded, so this will likely lead to a deadlock.\n",
            "  self.pid = os.fork()\n",
            "\u001b[34m\u001b[1mval: \u001b[0mScanning /content/craters/test/labels... 19 images, 0 backgrounds, 0 corrupt: 100%|██████████| 19/19 [00:00<00:00, 1496.59it/s]"
          ]
        },
        {
          "output_type": "stream",
          "name": "stdout",
          "text": [
            "\u001b[34m\u001b[1mval: \u001b[0mNew cache created: /content/craters/test/labels.cache\n"
          ]
        },
        {
          "output_type": "stream",
          "name": "stderr",
          "text": [
            "\n"
          ]
        },
        {
          "output_type": "stream",
          "name": "stdout",
          "text": [
            "Plotting labels to runs/detect/train/labels.jpg... \n",
            "\u001b[34m\u001b[1moptimizer:\u001b[0m SGD(lr=0.01, momentum=0.937) with parameter groups 57 weight(decay=0.0), 64 weight(decay=0.0005), 63 bias(decay=0.0)\n",
            "\u001b[34m\u001b[1mTensorBoard: \u001b[0mmodel graph visualization added ✅\n",
            "Image sizes 640 train, 640 val\n",
            "Using 2 dataloader workers\n",
            "Logging results to \u001b[1mruns/detect/train\u001b[0m\n",
            "Starting training for 25 epochs...\n",
            "\n",
            "      Epoch    GPU_mem   box_loss   cls_loss   dfl_loss  Instances       Size\n"
          ]
        },
        {
          "output_type": "stream",
          "name": "stderr",
          "text": [
            "       1/25      2.45G      3.792      3.951      4.248         15        640: 100%|██████████| 16/16 [00:07<00:00,  2.13it/s]\n",
            "                 Class     Images  Instances      Box(P          R      mAP50  mAP50-95): 100%|██████████| 2/2 [00:01<00:00,  1.28it/s]"
          ]
        },
        {
          "output_type": "stream",
          "name": "stdout",
          "text": [
            "                   all         19        151    0.00193     0.0728    0.00122   0.000434\n"
          ]
        },
        {
          "output_type": "stream",
          "name": "stderr",
          "text": [
            "\n"
          ]
        },
        {
          "output_type": "stream",
          "name": "stdout",
          "text": [
            "\n",
            "      Epoch    GPU_mem   box_loss   cls_loss   dfl_loss  Instances       Size\n"
          ]
        },
        {
          "output_type": "stream",
          "name": "stderr",
          "text": [
            "       2/25      2.37G      3.892      3.823      4.241         25        640: 100%|██████████| 16/16 [00:03<00:00,  5.04it/s]\n",
            "                 Class     Images  Instances      Box(P          R      mAP50  mAP50-95): 100%|██████████| 2/2 [00:00<00:00,  5.92it/s]"
          ]
        },
        {
          "output_type": "stream",
          "name": "stdout",
          "text": [
            "                   all         19        151    0.00211     0.0795    0.00208   0.000531\n"
          ]
        },
        {
          "output_type": "stream",
          "name": "stderr",
          "text": [
            "\n"
          ]
        },
        {
          "output_type": "stream",
          "name": "stdout",
          "text": [
            "\n",
            "      Epoch    GPU_mem   box_loss   cls_loss   dfl_loss  Instances       Size\n"
          ]
        },
        {
          "output_type": "stream",
          "name": "stderr",
          "text": [
            "       3/25      2.35G      4.061        3.9      4.243         58        640: 100%|██████████| 16/16 [00:02<00:00,  5.57it/s]\n",
            "                 Class     Images  Instances      Box(P          R      mAP50  mAP50-95): 100%|██████████| 2/2 [00:00<00:00,  6.02it/s]"
          ]
        },
        {
          "output_type": "stream",
          "name": "stdout",
          "text": [
            "                   all         19        151    0.00228     0.0861    0.00173   0.000498\n"
          ]
        },
        {
          "output_type": "stream",
          "name": "stderr",
          "text": [
            "\n"
          ]
        },
        {
          "output_type": "stream",
          "name": "stdout",
          "text": [
            "\n",
            "      Epoch    GPU_mem   box_loss   cls_loss   dfl_loss  Instances       Size\n"
          ]
        },
        {
          "output_type": "stream",
          "name": "stderr",
          "text": [
            "       4/25      2.31G      3.978      3.814      4.144         67        640: 100%|██████████| 16/16 [00:03<00:00,  4.45it/s]\n",
            "                 Class     Images  Instances      Box(P          R      mAP50  mAP50-95): 100%|██████████| 2/2 [00:00<00:00,  6.73it/s]"
          ]
        },
        {
          "output_type": "stream",
          "name": "stdout",
          "text": [
            "                   all         19        151    0.00211     0.0795    0.00146   0.000455\n"
          ]
        },
        {
          "output_type": "stream",
          "name": "stderr",
          "text": [
            "\n"
          ]
        },
        {
          "output_type": "stream",
          "name": "stdout",
          "text": [
            "\n",
            "      Epoch    GPU_mem   box_loss   cls_loss   dfl_loss  Instances       Size\n"
          ]
        },
        {
          "output_type": "stream",
          "name": "stderr",
          "text": [
            "       5/25      2.33G      3.887      3.764      4.128         46        640: 100%|██████████| 16/16 [00:02<00:00,  5.46it/s]\n",
            "                 Class     Images  Instances      Box(P          R      mAP50  mAP50-95): 100%|██████████| 2/2 [00:00<00:00,  6.24it/s]"
          ]
        },
        {
          "output_type": "stream",
          "name": "stdout",
          "text": [
            "                   all         19        151    0.00211     0.0795    0.00167   0.000517\n"
          ]
        },
        {
          "output_type": "stream",
          "name": "stderr",
          "text": [
            "\n"
          ]
        },
        {
          "output_type": "stream",
          "name": "stdout",
          "text": [
            "\n",
            "      Epoch    GPU_mem   box_loss   cls_loss   dfl_loss  Instances       Size\n"
          ]
        },
        {
          "output_type": "stream",
          "name": "stderr",
          "text": [
            "       6/25      2.42G      3.913      3.688      4.116         31        640: 100%|██████████| 16/16 [00:02<00:00,  5.56it/s]\n",
            "                 Class     Images  Instances      Box(P          R      mAP50  mAP50-95): 100%|██████████| 2/2 [00:00<00:00,  6.59it/s]"
          ]
        },
        {
          "output_type": "stream",
          "name": "stdout",
          "text": [
            "                   all         19        151    0.00193     0.0728     0.0015   0.000519\n"
          ]
        },
        {
          "output_type": "stream",
          "name": "stderr",
          "text": [
            "\n"
          ]
        },
        {
          "output_type": "stream",
          "name": "stdout",
          "text": [
            "\n",
            "      Epoch    GPU_mem   box_loss   cls_loss   dfl_loss  Instances       Size\n"
          ]
        },
        {
          "output_type": "stream",
          "name": "stderr",
          "text": [
            "       7/25      2.35G      3.909      3.603      4.084         27        640: 100%|██████████| 16/16 [00:03<00:00,  4.49it/s]\n",
            "                 Class     Images  Instances      Box(P          R      mAP50  mAP50-95): 100%|██████████| 2/2 [00:00<00:00,  5.81it/s]"
          ]
        },
        {
          "output_type": "stream",
          "name": "stdout",
          "text": [
            "                   all         19        151    0.00211     0.0795    0.00174   0.000529\n"
          ]
        },
        {
          "output_type": "stream",
          "name": "stderr",
          "text": [
            "\n"
          ]
        },
        {
          "output_type": "stream",
          "name": "stdout",
          "text": [
            "\n",
            "      Epoch    GPU_mem   box_loss   cls_loss   dfl_loss  Instances       Size\n"
          ]
        },
        {
          "output_type": "stream",
          "name": "stderr",
          "text": [
            "       8/25      2.33G      3.811      3.558      4.061         81        640: 100%|██████████| 16/16 [00:02<00:00,  5.56it/s]\n",
            "                 Class     Images  Instances      Box(P          R      mAP50  mAP50-95): 100%|██████████| 2/2 [00:00<00:00,  5.14it/s]"
          ]
        },
        {
          "output_type": "stream",
          "name": "stdout",
          "text": [
            "                   all         19        151    0.00228     0.0861    0.00186   0.000596\n"
          ]
        },
        {
          "output_type": "stream",
          "name": "stderr",
          "text": [
            "\n"
          ]
        },
        {
          "output_type": "stream",
          "name": "stdout",
          "text": [
            "\n",
            "      Epoch    GPU_mem   box_loss   cls_loss   dfl_loss  Instances       Size\n"
          ]
        },
        {
          "output_type": "stream",
          "name": "stderr",
          "text": [
            "       9/25      2.31G      3.673      3.664      4.046         14        640: 100%|██████████| 16/16 [00:02<00:00,  5.76it/s]\n",
            "                 Class     Images  Instances      Box(P          R      mAP50  mAP50-95): 100%|██████████| 2/2 [00:00<00:00,  5.79it/s]"
          ]
        },
        {
          "output_type": "stream",
          "name": "stdout",
          "text": [
            "                   all         19        151    0.00368      0.139    0.00746    0.00132\n"
          ]
        },
        {
          "output_type": "stream",
          "name": "stderr",
          "text": [
            "\n"
          ]
        },
        {
          "output_type": "stream",
          "name": "stdout",
          "text": [
            "\n",
            "      Epoch    GPU_mem   box_loss   cls_loss   dfl_loss  Instances       Size\n"
          ]
        },
        {
          "output_type": "stream",
          "name": "stderr",
          "text": [
            "      10/25      2.33G      3.481      3.572      4.008         20        640: 100%|██████████| 16/16 [00:03<00:00,  4.39it/s]\n",
            "                 Class     Images  Instances      Box(P          R      mAP50  mAP50-95): 100%|██████████| 2/2 [00:00<00:00,  3.37it/s]"
          ]
        },
        {
          "output_type": "stream",
          "name": "stdout",
          "text": [
            "                   all         19        151    0.00719      0.272     0.0204    0.00548\n"
          ]
        },
        {
          "output_type": "stream",
          "name": "stderr",
          "text": [
            "\n"
          ]
        },
        {
          "output_type": "stream",
          "name": "stdout",
          "text": [
            "\n",
            "      Epoch    GPU_mem   box_loss   cls_loss   dfl_loss  Instances       Size\n"
          ]
        },
        {
          "output_type": "stream",
          "name": "stderr",
          "text": [
            "      11/25      2.31G      3.306      3.526      3.972         33        640: 100%|██████████| 16/16 [00:03<00:00,  5.25it/s]\n",
            "                 Class     Images  Instances      Box(P          R      mAP50  mAP50-95): 100%|██████████| 2/2 [00:00<00:00,  6.21it/s]"
          ]
        },
        {
          "output_type": "stream",
          "name": "stdout",
          "text": [
            "                   all         19        151     0.0328      0.159     0.0167     0.0051\n"
          ]
        },
        {
          "output_type": "stream",
          "name": "stderr",
          "text": [
            "\n"
          ]
        },
        {
          "output_type": "stream",
          "name": "stdout",
          "text": [
            "\n",
            "      Epoch    GPU_mem   box_loss   cls_loss   dfl_loss  Instances       Size\n"
          ]
        },
        {
          "output_type": "stream",
          "name": "stderr",
          "text": [
            "      12/25      2.37G      3.189      3.444      3.812         33        640: 100%|██████████| 16/16 [00:02<00:00,  5.55it/s]\n",
            "                 Class     Images  Instances      Box(P          R      mAP50  mAP50-95): 100%|██████████| 2/2 [00:00<00:00,  6.33it/s]"
          ]
        },
        {
          "output_type": "stream",
          "name": "stdout",
          "text": [
            "                   all         19        151     0.0356      0.113     0.0178    0.00646\n"
          ]
        },
        {
          "output_type": "stream",
          "name": "stderr",
          "text": [
            "\n"
          ]
        },
        {
          "output_type": "stream",
          "name": "stdout",
          "text": [
            "\n",
            "      Epoch    GPU_mem   box_loss   cls_loss   dfl_loss  Instances       Size\n"
          ]
        },
        {
          "output_type": "stream",
          "name": "stderr",
          "text": [
            "      13/25      2.32G      3.279      3.449      3.756         23        640: 100%|██████████| 16/16 [00:03<00:00,  4.81it/s]\n",
            "                 Class     Images  Instances      Box(P          R      mAP50  mAP50-95): 100%|██████████| 2/2 [00:00<00:00,  6.60it/s]"
          ]
        },
        {
          "output_type": "stream",
          "name": "stdout",
          "text": [
            "                   all         19        151      0.122     0.0795     0.0475     0.0181\n"
          ]
        },
        {
          "output_type": "stream",
          "name": "stderr",
          "text": [
            "\n"
          ]
        },
        {
          "output_type": "stream",
          "name": "stdout",
          "text": [
            "\n",
            "      Epoch    GPU_mem   box_loss   cls_loss   dfl_loss  Instances       Size\n"
          ]
        },
        {
          "output_type": "stream",
          "name": "stderr",
          "text": [
            "      14/25      2.35G      3.063      3.187      3.566         46        640: 100%|██████████| 16/16 [00:02<00:00,  5.65it/s]\n",
            "                 Class     Images  Instances      Box(P          R      mAP50  mAP50-95): 100%|██████████| 2/2 [00:00<00:00,  6.88it/s]"
          ]
        },
        {
          "output_type": "stream",
          "name": "stdout",
          "text": [
            "                   all         19        151      0.163     0.0927     0.0632      0.027\n"
          ]
        },
        {
          "output_type": "stream",
          "name": "stderr",
          "text": [
            "\n"
          ]
        },
        {
          "output_type": "stream",
          "name": "stdout",
          "text": [
            "\n",
            "      Epoch    GPU_mem   box_loss   cls_loss   dfl_loss  Instances       Size\n"
          ]
        },
        {
          "output_type": "stream",
          "name": "stderr",
          "text": [
            "      15/25      2.34G      3.018      3.051      3.387         87        640: 100%|██████████| 16/16 [00:02<00:00,  5.72it/s]\n",
            "                 Class     Images  Instances      Box(P          R      mAP50  mAP50-95): 100%|██████████| 2/2 [00:00<00:00,  6.35it/s]"
          ]
        },
        {
          "output_type": "stream",
          "name": "stdout",
          "text": [
            "                   all         19        151      0.104      0.119     0.0445     0.0195\n"
          ]
        },
        {
          "output_type": "stream",
          "name": "stderr",
          "text": [
            "\n"
          ]
        },
        {
          "output_type": "stream",
          "name": "stdout",
          "text": [
            "Closing dataloader mosaic\n",
            "\u001b[34m\u001b[1malbumentations: \u001b[0mBlur(p=0.01, blur_limit=(3, 7)), MedianBlur(p=0.01, blur_limit=(3, 7)), ToGray(p=0.01), CLAHE(p=0.01, clip_limit=(1, 4.0), tile_grid_size=(8, 8))\n"
          ]
        },
        {
          "output_type": "stream",
          "name": "stderr",
          "text": [
            "/usr/lib/python3.10/multiprocessing/popen_fork.py:66: RuntimeWarning: os.fork() was called. os.fork() is incompatible with multithreaded code, and JAX is multithreaded, so this will likely lead to a deadlock.\n",
            "  self.pid = os.fork()\n"
          ]
        },
        {
          "output_type": "stream",
          "name": "stdout",
          "text": [
            "\n",
            "      Epoch    GPU_mem   box_loss   cls_loss   dfl_loss  Instances       Size\n"
          ]
        },
        {
          "output_type": "stream",
          "name": "stderr",
          "text": [
            "      16/25      2.32G      2.817      3.376      3.375         20        640: 100%|██████████| 16/16 [00:05<00:00,  3.08it/s]\n",
            "                 Class     Images  Instances      Box(P          R      mAP50  mAP50-95): 100%|██████████| 2/2 [00:00<00:00,  6.52it/s]"
          ]
        },
        {
          "output_type": "stream",
          "name": "stdout",
          "text": [
            "                   all         19        151      0.088      0.126     0.0448     0.0186\n"
          ]
        },
        {
          "output_type": "stream",
          "name": "stderr",
          "text": [
            "\n"
          ]
        },
        {
          "output_type": "stream",
          "name": "stdout",
          "text": [
            "\n",
            "      Epoch    GPU_mem   box_loss   cls_loss   dfl_loss  Instances       Size\n"
          ]
        },
        {
          "output_type": "stream",
          "name": "stderr",
          "text": [
            "      17/25      2.34G      2.783      3.274      3.338         53        640: 100%|██████████| 16/16 [00:02<00:00,  5.68it/s]\n",
            "                 Class     Images  Instances      Box(P          R      mAP50  mAP50-95): 100%|██████████| 2/2 [00:00<00:00,  6.27it/s]"
          ]
        },
        {
          "output_type": "stream",
          "name": "stdout",
          "text": [
            "                   all         19        151      0.197      0.179      0.101     0.0383\n"
          ]
        },
        {
          "output_type": "stream",
          "name": "stderr",
          "text": [
            "\n"
          ]
        },
        {
          "output_type": "stream",
          "name": "stdout",
          "text": [
            "\n",
            "      Epoch    GPU_mem   box_loss   cls_loss   dfl_loss  Instances       Size\n"
          ]
        },
        {
          "output_type": "stream",
          "name": "stderr",
          "text": [
            "      18/25      2.31G      2.766      3.357      3.331         10        640: 100%|██████████| 16/16 [00:03<00:00,  4.27it/s]\n",
            "                 Class     Images  Instances      Box(P          R      mAP50  mAP50-95): 100%|██████████| 2/2 [00:00<00:00,  5.13it/s]"
          ]
        },
        {
          "output_type": "stream",
          "name": "stdout",
          "text": [
            "                   all         19        151      0.193      0.192     0.0899     0.0357\n"
          ]
        },
        {
          "output_type": "stream",
          "name": "stderr",
          "text": [
            "\n"
          ]
        },
        {
          "output_type": "stream",
          "name": "stdout",
          "text": [
            "\n",
            "      Epoch    GPU_mem   box_loss   cls_loss   dfl_loss  Instances       Size\n"
          ]
        },
        {
          "output_type": "stream",
          "name": "stderr",
          "text": [
            "      19/25      2.33G      2.672      3.135      3.204         40        640: 100%|██████████| 16/16 [00:02<00:00,  5.85it/s]\n",
            "                 Class     Images  Instances      Box(P          R      mAP50  mAP50-95): 100%|██████████| 2/2 [00:00<00:00,  7.18it/s]"
          ]
        },
        {
          "output_type": "stream",
          "name": "stdout",
          "text": [
            "                   all         19        151      0.166      0.219      0.111     0.0398\n"
          ]
        },
        {
          "output_type": "stream",
          "name": "stderr",
          "text": [
            "\n"
          ]
        },
        {
          "output_type": "stream",
          "name": "stdout",
          "text": [
            "\n",
            "      Epoch    GPU_mem   box_loss   cls_loss   dfl_loss  Instances       Size\n"
          ]
        },
        {
          "output_type": "stream",
          "name": "stderr",
          "text": [
            "      20/25      2.35G      2.678      3.011      3.241         20        640: 100%|██████████| 16/16 [00:02<00:00,  5.66it/s]\n",
            "                 Class     Images  Instances      Box(P          R      mAP50  mAP50-95): 100%|██████████| 2/2 [00:00<00:00,  6.63it/s]"
          ]
        },
        {
          "output_type": "stream",
          "name": "stdout",
          "text": [
            "                   all         19        151      0.263      0.172      0.111     0.0362\n"
          ]
        },
        {
          "output_type": "stream",
          "name": "stderr",
          "text": [
            "\n"
          ]
        },
        {
          "output_type": "stream",
          "name": "stdout",
          "text": [
            "\n",
            "      Epoch    GPU_mem   box_loss   cls_loss   dfl_loss  Instances       Size\n"
          ]
        },
        {
          "output_type": "stream",
          "name": "stderr",
          "text": [
            "      21/25      2.36G      2.621       2.98      3.135         33        640: 100%|██████████| 16/16 [00:03<00:00,  4.92it/s]\n",
            "                 Class     Images  Instances      Box(P          R      mAP50  mAP50-95): 100%|██████████| 2/2 [00:00<00:00,  4.21it/s]"
          ]
        },
        {
          "output_type": "stream",
          "name": "stdout",
          "text": [
            "                   all         19        151      0.308      0.192      0.145     0.0509\n"
          ]
        },
        {
          "output_type": "stream",
          "name": "stderr",
          "text": [
            "\n"
          ]
        },
        {
          "output_type": "stream",
          "name": "stdout",
          "text": [
            "\n",
            "      Epoch    GPU_mem   box_loss   cls_loss   dfl_loss  Instances       Size\n"
          ]
        },
        {
          "output_type": "stream",
          "name": "stderr",
          "text": [
            "      22/25      2.36G      2.621      2.919      3.119         26        640: 100%|██████████| 16/16 [00:02<00:00,  5.95it/s]\n",
            "                 Class     Images  Instances      Box(P          R      mAP50  mAP50-95): 100%|██████████| 2/2 [00:00<00:00,  6.69it/s]"
          ]
        },
        {
          "output_type": "stream",
          "name": "stdout",
          "text": [
            "                   all         19        151      0.314      0.199      0.177     0.0632\n"
          ]
        },
        {
          "output_type": "stream",
          "name": "stderr",
          "text": [
            "\n"
          ]
        },
        {
          "output_type": "stream",
          "name": "stdout",
          "text": [
            "\n",
            "      Epoch    GPU_mem   box_loss   cls_loss   dfl_loss  Instances       Size\n"
          ]
        },
        {
          "output_type": "stream",
          "name": "stderr",
          "text": [
            "      23/25      2.31G      2.591      2.992       3.08         28        640: 100%|██████████| 16/16 [00:02<00:00,  5.97it/s]\n",
            "                 Class     Images  Instances      Box(P          R      mAP50  mAP50-95): 100%|██████████| 2/2 [00:00<00:00,  7.23it/s]"
          ]
        },
        {
          "output_type": "stream",
          "name": "stdout",
          "text": [
            "                   all         19        151       0.27      0.232       0.17      0.064\n"
          ]
        },
        {
          "output_type": "stream",
          "name": "stderr",
          "text": [
            "\n"
          ]
        },
        {
          "output_type": "stream",
          "name": "stdout",
          "text": [
            "\n",
            "      Epoch    GPU_mem   box_loss   cls_loss   dfl_loss  Instances       Size\n"
          ]
        },
        {
          "output_type": "stream",
          "name": "stderr",
          "text": [
            "      24/25      2.34G      2.561      2.889      3.012         19        640: 100%|██████████| 16/16 [00:02<00:00,  5.36it/s]\n",
            "                 Class     Images  Instances      Box(P          R      mAP50  mAP50-95): 100%|██████████| 2/2 [00:00<00:00,  4.00it/s]"
          ]
        },
        {
          "output_type": "stream",
          "name": "stdout",
          "text": [
            "                   all         19        151       0.29      0.212      0.184      0.069\n"
          ]
        },
        {
          "output_type": "stream",
          "name": "stderr",
          "text": [
            "\n"
          ]
        },
        {
          "output_type": "stream",
          "name": "stdout",
          "text": [
            "\n",
            "      Epoch    GPU_mem   box_loss   cls_loss   dfl_loss  Instances       Size\n"
          ]
        },
        {
          "output_type": "stream",
          "name": "stderr",
          "text": [
            "      25/25      2.33G      2.541        2.8      3.044         14        640: 100%|██████████| 16/16 [00:02<00:00,  5.43it/s]\n",
            "                 Class     Images  Instances      Box(P          R      mAP50  mAP50-95): 100%|██████████| 2/2 [00:00<00:00,  6.82it/s]"
          ]
        },
        {
          "output_type": "stream",
          "name": "stdout",
          "text": [
            "                   all         19        151      0.306      0.225      0.193     0.0721\n"
          ]
        },
        {
          "output_type": "stream",
          "name": "stderr",
          "text": [
            "\n"
          ]
        },
        {
          "output_type": "stream",
          "name": "stdout",
          "text": [
            "\n",
            "25 epochs completed in 0.032 hours.\n",
            "Optimizer stripped from runs/detect/train/weights/last.pt, 22.5MB\n",
            "Optimizer stripped from runs/detect/train/weights/best.pt, 22.5MB\n",
            "\n",
            "Validating runs/detect/train/weights/best.pt...\n",
            "Ultralytics YOLOv8.2.5 🚀 Python-3.10.12 torch-2.2.1+cu121 CUDA:0 (Tesla T4, 15102MiB)\n",
            "YOLOv8s summary (fused): 168 layers, 11125971 parameters, 0 gradients, 28.4 GFLOPs\n"
          ]
        },
        {
          "output_type": "stream",
          "name": "stderr",
          "text": [
            "                 Class     Images  Instances      Box(P          R      mAP50  mAP50-95): 100%|██████████| 2/2 [00:00<00:00,  7.07it/s]\n"
          ]
        },
        {
          "output_type": "stream",
          "name": "stdout",
          "text": [
            "                   all         19        151      0.309      0.225      0.193     0.0721\n",
            "Speed: 0.3ms preprocess, 5.0ms inference, 0.0ms loss, 3.3ms postprocess per image\n",
            "Results saved to \u001b[1mruns/detect/train\u001b[0m\n"
          ]
        }
      ],
      "source": [
        "results = model.train(data=\"/content/data_config.yaml\", batch=8, epochs=25, single_cls=True, optimizer='SGD')"
      ]
    },
    {
      "cell_type": "markdown",
      "metadata": {
        "id": "te8U1u6f5Zl1"
      },
      "source": [
        "## Zip the results and download to local system"
      ]
    },
    {
      "cell_type": "code",
      "execution_count": 12,
      "metadata": {
        "id": "NZkzJ7aC693P"
      },
      "outputs": [],
      "source": [
        "import locale\n",
        "locale.getpreferredencoding = lambda: \"UTF-8\""
      ]
    },
    {
      "cell_type": "code",
      "execution_count": 13,
      "metadata": {
        "colab": {
          "base_uri": "https://localhost:8080/"
        },
        "id": "3EA5j1MG5eQ9",
        "outputId": "d4c43770-40bc-4627-f830-ea56369a56a5"
      },
      "outputs": [
        {
          "output_type": "stream",
          "name": "stdout",
          "text": [
            "  adding: content/runs/ (stored 0%)\n",
            "  adding: content/runs/detect/ (stored 0%)\n",
            "  adding: content/runs/detect/train/ (stored 0%)\n",
            "  adding: content/runs/detect/train/results.csv (deflated 84%)\n",
            "  adding: content/runs/detect/train/events.out.tfevents.1714482747.f2c4d3e41901.249.0 (deflated 91%)\n",
            "  adding: content/runs/detect/train/val_batch1_pred.jpg (deflated 7%)\n",
            "  adding: content/runs/detect/train/labels_correlogram.jpg (deflated 44%)\n",
            "  adding: content/runs/detect/train/confusion_matrix.png (deflated 38%)\n",
            "  adding: content/runs/detect/train/weights/ (stored 0%)\n",
            "  adding: content/runs/detect/train/weights/best.pt (deflated 10%)\n",
            "  adding: content/runs/detect/train/weights/last.pt (deflated 10%)\n",
            "  adding: content/runs/detect/train/args.yaml (deflated 52%)\n",
            "  adding: content/runs/detect/train/train_batch240.jpg (deflated 7%)\n",
            "  adding: content/runs/detect/train/val_batch1_labels.jpg (deflated 7%)\n",
            "  adding: content/runs/detect/train/train_batch242.jpg (deflated 5%)\n",
            "  adding: content/runs/detect/train/P_curve.png (deflated 14%)\n",
            "  adding: content/runs/detect/train/labels.jpg (deflated 37%)\n",
            "  adding: content/runs/detect/train/train_batch2.jpg (deflated 2%)\n",
            "  adding: content/runs/detect/train/R_curve.png (deflated 20%)\n",
            "  adding: content/runs/detect/train/train_batch0.jpg (deflated 3%)\n",
            "  adding: content/runs/detect/train/PR_curve.png (deflated 22%)\n",
            "  adding: content/runs/detect/train/confusion_matrix_normalized.png (deflated 37%)\n",
            "  adding: content/runs/detect/train/val_batch0_pred.jpg (deflated 5%)\n",
            "  adding: content/runs/detect/train/results.png (deflated 7%)\n",
            "  adding: content/runs/detect/train/train_batch241.jpg (deflated 3%)\n",
            "  adding: content/runs/detect/train/train_batch1.jpg (deflated 2%)\n",
            "  adding: content/runs/detect/train/F1_curve.png (deflated 22%)\n",
            "  adding: content/runs/detect/train/val_batch0_labels.jpg (deflated 5%)\n"
          ]
        }
      ],
      "source": [
        "!zip -r /content/runs.zip /content/runs"
      ]
    },
    {
      "cell_type": "code",
      "execution_count": 14,
      "metadata": {
        "colab": {
          "base_uri": "https://localhost:8080/",
          "height": 17
        },
        "id": "aN0FVLiM6nXp",
        "outputId": "381c0626-7e12-46e0-ef7c-b821e3602bcd"
      },
      "outputs": [
        {
          "output_type": "display_data",
          "data": {
            "text/plain": [
              "<IPython.core.display.Javascript object>"
            ],
            "application/javascript": [
              "\n",
              "    async function download(id, filename, size) {\n",
              "      if (!google.colab.kernel.accessAllowed) {\n",
              "        return;\n",
              "      }\n",
              "      const div = document.createElement('div');\n",
              "      const label = document.createElement('label');\n",
              "      label.textContent = `Downloading \"${filename}\": `;\n",
              "      div.appendChild(label);\n",
              "      const progress = document.createElement('progress');\n",
              "      progress.max = size;\n",
              "      div.appendChild(progress);\n",
              "      document.body.appendChild(div);\n",
              "\n",
              "      const buffers = [];\n",
              "      let downloaded = 0;\n",
              "\n",
              "      const channel = await google.colab.kernel.comms.open(id);\n",
              "      // Send a message to notify the kernel that we're ready.\n",
              "      channel.send({})\n",
              "\n",
              "      for await (const message of channel.messages) {\n",
              "        // Send a message to notify the kernel that we're ready.\n",
              "        channel.send({})\n",
              "        if (message.buffers) {\n",
              "          for (const buffer of message.buffers) {\n",
              "            buffers.push(buffer);\n",
              "            downloaded += buffer.byteLength;\n",
              "            progress.value = downloaded;\n",
              "          }\n",
              "        }\n",
              "      }\n",
              "      const blob = new Blob(buffers, {type: 'application/binary'});\n",
              "      const a = document.createElement('a');\n",
              "      a.href = window.URL.createObjectURL(blob);\n",
              "      a.download = filename;\n",
              "      div.appendChild(a);\n",
              "      a.click();\n",
              "      div.remove();\n",
              "    }\n",
              "  "
            ]
          },
          "metadata": {}
        },
        {
          "output_type": "display_data",
          "data": {
            "text/plain": [
              "<IPython.core.display.Javascript object>"
            ],
            "application/javascript": [
              "download(\"download_66950a85-72af-432f-b3fa-d616248436f2\", \"runs.zip\", 46839459)"
            ]
          },
          "metadata": {}
        }
      ],
      "source": [
        "files.download(\"/content/runs.zip\")"
      ]
    },
    {
      "cell_type": "code",
      "execution_count": 15,
      "metadata": {
        "colab": {
          "base_uri": "https://localhost:8080/",
          "height": 17
        },
        "id": "EsdBi_Fj7Ms_",
        "outputId": "113c2f17-fa57-4c73-ad8e-fde2cbf2940b"
      },
      "outputs": [
        {
          "output_type": "display_data",
          "data": {
            "text/plain": [
              "<IPython.core.display.Javascript object>"
            ],
            "application/javascript": [
              "\n",
              "    async function download(id, filename, size) {\n",
              "      if (!google.colab.kernel.accessAllowed) {\n",
              "        return;\n",
              "      }\n",
              "      const div = document.createElement('div');\n",
              "      const label = document.createElement('label');\n",
              "      label.textContent = `Downloading \"${filename}\": `;\n",
              "      div.appendChild(label);\n",
              "      const progress = document.createElement('progress');\n",
              "      progress.max = size;\n",
              "      div.appendChild(progress);\n",
              "      document.body.appendChild(div);\n",
              "\n",
              "      const buffers = [];\n",
              "      let downloaded = 0;\n",
              "\n",
              "      const channel = await google.colab.kernel.comms.open(id);\n",
              "      // Send a message to notify the kernel that we're ready.\n",
              "      channel.send({})\n",
              "\n",
              "      for await (const message of channel.messages) {\n",
              "        // Send a message to notify the kernel that we're ready.\n",
              "        channel.send({})\n",
              "        if (message.buffers) {\n",
              "          for (const buffer of message.buffers) {\n",
              "            buffers.push(buffer);\n",
              "            downloaded += buffer.byteLength;\n",
              "            progress.value = downloaded;\n",
              "          }\n",
              "        }\n",
              "      }\n",
              "      const blob = new Blob(buffers, {type: 'application/binary'});\n",
              "      const a = document.createElement('a');\n",
              "      a.href = window.URL.createObjectURL(blob);\n",
              "      a.download = filename;\n",
              "      div.appendChild(a);\n",
              "      a.click();\n",
              "      div.remove();\n",
              "    }\n",
              "  "
            ]
          },
          "metadata": {}
        },
        {
          "output_type": "display_data",
          "data": {
            "text/plain": [
              "<IPython.core.display.Javascript object>"
            ],
            "application/javascript": [
              "download(\"download_abb47c29-e6e7-4300-ac13-226a20662600\", \"yolov8n.pt\", 6534387)"
            ]
          },
          "metadata": {}
        }
      ],
      "source": [
        "files.download(\"/content/yolov8n.pt\")"
      ]
    },
    {
      "cell_type": "markdown",
      "metadata": {
        "id": "ozM_ToQ-88AF"
      },
      "source": [
        "## Prediction Testing using file upload"
      ]
    },
    {
      "cell_type": "markdown",
      "source": [
        "- Save a copy of the notebook so you have the results and training parameters\n",
        "\n",
        "- Turn off GPU and switch to CPU runtime\n",
        "\n",
        "- We will upload the model and the image for prediction"
      ],
      "metadata": {
        "id": "XtXfIg08UwmP"
      }
    },
    {
      "cell_type": "code",
      "execution_count": null,
      "metadata": {
        "id": "0Dg7m0cd7UEz",
        "colab": {
          "base_uri": "https://localhost:8080/",
          "height": 112
        },
        "outputId": "5b076bb6-de32-4361-935c-0c9ae48f4029"
      },
      "outputs": [
        {
          "output_type": "display_data",
          "data": {
            "text/plain": [
              "<IPython.core.display.HTML object>"
            ],
            "text/html": [
              "\n",
              "     <input type=\"file\" id=\"files-952da353-7f37-4b8f-ad4f-a1e427ccb2fa\" name=\"files[]\" multiple disabled\n",
              "        style=\"border:none\" />\n",
              "     <output id=\"result-952da353-7f37-4b8f-ad4f-a1e427ccb2fa\">\n",
              "      Upload widget is only available when the cell has been executed in the\n",
              "      current browser session. Please rerun this cell to enable.\n",
              "      </output>\n",
              "      <script>// Copyright 2017 Google LLC\n",
              "//\n",
              "// Licensed under the Apache License, Version 2.0 (the \"License\");\n",
              "// you may not use this file except in compliance with the License.\n",
              "// You may obtain a copy of the License at\n",
              "//\n",
              "//      http://www.apache.org/licenses/LICENSE-2.0\n",
              "//\n",
              "// Unless required by applicable law or agreed to in writing, software\n",
              "// distributed under the License is distributed on an \"AS IS\" BASIS,\n",
              "// WITHOUT WARRANTIES OR CONDITIONS OF ANY KIND, either express or implied.\n",
              "// See the License for the specific language governing permissions and\n",
              "// limitations under the License.\n",
              "\n",
              "/**\n",
              " * @fileoverview Helpers for google.colab Python module.\n",
              " */\n",
              "(function(scope) {\n",
              "function span(text, styleAttributes = {}) {\n",
              "  const element = document.createElement('span');\n",
              "  element.textContent = text;\n",
              "  for (const key of Object.keys(styleAttributes)) {\n",
              "    element.style[key] = styleAttributes[key];\n",
              "  }\n",
              "  return element;\n",
              "}\n",
              "\n",
              "// Max number of bytes which will be uploaded at a time.\n",
              "const MAX_PAYLOAD_SIZE = 100 * 1024;\n",
              "\n",
              "function _uploadFiles(inputId, outputId) {\n",
              "  const steps = uploadFilesStep(inputId, outputId);\n",
              "  const outputElement = document.getElementById(outputId);\n",
              "  // Cache steps on the outputElement to make it available for the next call\n",
              "  // to uploadFilesContinue from Python.\n",
              "  outputElement.steps = steps;\n",
              "\n",
              "  return _uploadFilesContinue(outputId);\n",
              "}\n",
              "\n",
              "// This is roughly an async generator (not supported in the browser yet),\n",
              "// where there are multiple asynchronous steps and the Python side is going\n",
              "// to poll for completion of each step.\n",
              "// This uses a Promise to block the python side on completion of each step,\n",
              "// then passes the result of the previous step as the input to the next step.\n",
              "function _uploadFilesContinue(outputId) {\n",
              "  const outputElement = document.getElementById(outputId);\n",
              "  const steps = outputElement.steps;\n",
              "\n",
              "  const next = steps.next(outputElement.lastPromiseValue);\n",
              "  return Promise.resolve(next.value.promise).then((value) => {\n",
              "    // Cache the last promise value to make it available to the next\n",
              "    // step of the generator.\n",
              "    outputElement.lastPromiseValue = value;\n",
              "    return next.value.response;\n",
              "  });\n",
              "}\n",
              "\n",
              "/**\n",
              " * Generator function which is called between each async step of the upload\n",
              " * process.\n",
              " * @param {string} inputId Element ID of the input file picker element.\n",
              " * @param {string} outputId Element ID of the output display.\n",
              " * @return {!Iterable<!Object>} Iterable of next steps.\n",
              " */\n",
              "function* uploadFilesStep(inputId, outputId) {\n",
              "  const inputElement = document.getElementById(inputId);\n",
              "  inputElement.disabled = false;\n",
              "\n",
              "  const outputElement = document.getElementById(outputId);\n",
              "  outputElement.innerHTML = '';\n",
              "\n",
              "  const pickedPromise = new Promise((resolve) => {\n",
              "    inputElement.addEventListener('change', (e) => {\n",
              "      resolve(e.target.files);\n",
              "    });\n",
              "  });\n",
              "\n",
              "  const cancel = document.createElement('button');\n",
              "  inputElement.parentElement.appendChild(cancel);\n",
              "  cancel.textContent = 'Cancel upload';\n",
              "  const cancelPromise = new Promise((resolve) => {\n",
              "    cancel.onclick = () => {\n",
              "      resolve(null);\n",
              "    };\n",
              "  });\n",
              "\n",
              "  // Wait for the user to pick the files.\n",
              "  const files = yield {\n",
              "    promise: Promise.race([pickedPromise, cancelPromise]),\n",
              "    response: {\n",
              "      action: 'starting',\n",
              "    }\n",
              "  };\n",
              "\n",
              "  cancel.remove();\n",
              "\n",
              "  // Disable the input element since further picks are not allowed.\n",
              "  inputElement.disabled = true;\n",
              "\n",
              "  if (!files) {\n",
              "    return {\n",
              "      response: {\n",
              "        action: 'complete',\n",
              "      }\n",
              "    };\n",
              "  }\n",
              "\n",
              "  for (const file of files) {\n",
              "    const li = document.createElement('li');\n",
              "    li.append(span(file.name, {fontWeight: 'bold'}));\n",
              "    li.append(span(\n",
              "        `(${file.type || 'n/a'}) - ${file.size} bytes, ` +\n",
              "        `last modified: ${\n",
              "            file.lastModifiedDate ? file.lastModifiedDate.toLocaleDateString() :\n",
              "                                    'n/a'} - `));\n",
              "    const percent = span('0% done');\n",
              "    li.appendChild(percent);\n",
              "\n",
              "    outputElement.appendChild(li);\n",
              "\n",
              "    const fileDataPromise = new Promise((resolve) => {\n",
              "      const reader = new FileReader();\n",
              "      reader.onload = (e) => {\n",
              "        resolve(e.target.result);\n",
              "      };\n",
              "      reader.readAsArrayBuffer(file);\n",
              "    });\n",
              "    // Wait for the data to be ready.\n",
              "    let fileData = yield {\n",
              "      promise: fileDataPromise,\n",
              "      response: {\n",
              "        action: 'continue',\n",
              "      }\n",
              "    };\n",
              "\n",
              "    // Use a chunked sending to avoid message size limits. See b/62115660.\n",
              "    let position = 0;\n",
              "    do {\n",
              "      const length = Math.min(fileData.byteLength - position, MAX_PAYLOAD_SIZE);\n",
              "      const chunk = new Uint8Array(fileData, position, length);\n",
              "      position += length;\n",
              "\n",
              "      const base64 = btoa(String.fromCharCode.apply(null, chunk));\n",
              "      yield {\n",
              "        response: {\n",
              "          action: 'append',\n",
              "          file: file.name,\n",
              "          data: base64,\n",
              "        },\n",
              "      };\n",
              "\n",
              "      let percentDone = fileData.byteLength === 0 ?\n",
              "          100 :\n",
              "          Math.round((position / fileData.byteLength) * 100);\n",
              "      percent.textContent = `${percentDone}% done`;\n",
              "\n",
              "    } while (position < fileData.byteLength);\n",
              "  }\n",
              "\n",
              "  // All done.\n",
              "  yield {\n",
              "    response: {\n",
              "      action: 'complete',\n",
              "    }\n",
              "  };\n",
              "}\n",
              "\n",
              "scope.google = scope.google || {};\n",
              "scope.google.colab = scope.google.colab || {};\n",
              "scope.google.colab._files = {\n",
              "  _uploadFiles,\n",
              "  _uploadFilesContinue,\n",
              "};\n",
              "})(self);\n",
              "</script> "
            ]
          },
          "metadata": {}
        },
        {
          "output_type": "stream",
          "name": "stdout",
          "text": [
            "Saving mars_crater--63-_jpg.rf.ab0440022651f886c68744a55eb215d9.jpg to mars_crater--63-_jpg.rf.ab0440022651f886c68744a55eb215d9.jpg\n",
            "done\n"
          ]
        }
      ],
      "source": [
        "# upload image\n",
        "from google.colab import files\n",
        "files.upload()\n",
        "print(\"done\")"
      ]
    },
    {
      "cell_type": "code",
      "execution_count": null,
      "metadata": {
        "colab": {
          "base_uri": "https://localhost:8080/",
          "height": 92
        },
        "outputId": "9e612d4a-5db3-44ed-dbb5-9d5d7132ad10",
        "id": "OVtc1b0CoEK2"
      },
      "outputs": [
        {
          "output_type": "display_data",
          "data": {
            "text/plain": [
              "<IPython.core.display.HTML object>"
            ],
            "text/html": [
              "\n",
              "     <input type=\"file\" id=\"files-c33ab9eb-b698-46a7-862a-0f786c142479\" name=\"files[]\" multiple disabled\n",
              "        style=\"border:none\" />\n",
              "     <output id=\"result-c33ab9eb-b698-46a7-862a-0f786c142479\">\n",
              "      Upload widget is only available when the cell has been executed in the\n",
              "      current browser session. Please rerun this cell to enable.\n",
              "      </output>\n",
              "      <script>// Copyright 2017 Google LLC\n",
              "//\n",
              "// Licensed under the Apache License, Version 2.0 (the \"License\");\n",
              "// you may not use this file except in compliance with the License.\n",
              "// You may obtain a copy of the License at\n",
              "//\n",
              "//      http://www.apache.org/licenses/LICENSE-2.0\n",
              "//\n",
              "// Unless required by applicable law or agreed to in writing, software\n",
              "// distributed under the License is distributed on an \"AS IS\" BASIS,\n",
              "// WITHOUT WARRANTIES OR CONDITIONS OF ANY KIND, either express or implied.\n",
              "// See the License for the specific language governing permissions and\n",
              "// limitations under the License.\n",
              "\n",
              "/**\n",
              " * @fileoverview Helpers for google.colab Python module.\n",
              " */\n",
              "(function(scope) {\n",
              "function span(text, styleAttributes = {}) {\n",
              "  const element = document.createElement('span');\n",
              "  element.textContent = text;\n",
              "  for (const key of Object.keys(styleAttributes)) {\n",
              "    element.style[key] = styleAttributes[key];\n",
              "  }\n",
              "  return element;\n",
              "}\n",
              "\n",
              "// Max number of bytes which will be uploaded at a time.\n",
              "const MAX_PAYLOAD_SIZE = 100 * 1024;\n",
              "\n",
              "function _uploadFiles(inputId, outputId) {\n",
              "  const steps = uploadFilesStep(inputId, outputId);\n",
              "  const outputElement = document.getElementById(outputId);\n",
              "  // Cache steps on the outputElement to make it available for the next call\n",
              "  // to uploadFilesContinue from Python.\n",
              "  outputElement.steps = steps;\n",
              "\n",
              "  return _uploadFilesContinue(outputId);\n",
              "}\n",
              "\n",
              "// This is roughly an async generator (not supported in the browser yet),\n",
              "// where there are multiple asynchronous steps and the Python side is going\n",
              "// to poll for completion of each step.\n",
              "// This uses a Promise to block the python side on completion of each step,\n",
              "// then passes the result of the previous step as the input to the next step.\n",
              "function _uploadFilesContinue(outputId) {\n",
              "  const outputElement = document.getElementById(outputId);\n",
              "  const steps = outputElement.steps;\n",
              "\n",
              "  const next = steps.next(outputElement.lastPromiseValue);\n",
              "  return Promise.resolve(next.value.promise).then((value) => {\n",
              "    // Cache the last promise value to make it available to the next\n",
              "    // step of the generator.\n",
              "    outputElement.lastPromiseValue = value;\n",
              "    return next.value.response;\n",
              "  });\n",
              "}\n",
              "\n",
              "/**\n",
              " * Generator function which is called between each async step of the upload\n",
              " * process.\n",
              " * @param {string} inputId Element ID of the input file picker element.\n",
              " * @param {string} outputId Element ID of the output display.\n",
              " * @return {!Iterable<!Object>} Iterable of next steps.\n",
              " */\n",
              "function* uploadFilesStep(inputId, outputId) {\n",
              "  const inputElement = document.getElementById(inputId);\n",
              "  inputElement.disabled = false;\n",
              "\n",
              "  const outputElement = document.getElementById(outputId);\n",
              "  outputElement.innerHTML = '';\n",
              "\n",
              "  const pickedPromise = new Promise((resolve) => {\n",
              "    inputElement.addEventListener('change', (e) => {\n",
              "      resolve(e.target.files);\n",
              "    });\n",
              "  });\n",
              "\n",
              "  const cancel = document.createElement('button');\n",
              "  inputElement.parentElement.appendChild(cancel);\n",
              "  cancel.textContent = 'Cancel upload';\n",
              "  const cancelPromise = new Promise((resolve) => {\n",
              "    cancel.onclick = () => {\n",
              "      resolve(null);\n",
              "    };\n",
              "  });\n",
              "\n",
              "  // Wait for the user to pick the files.\n",
              "  const files = yield {\n",
              "    promise: Promise.race([pickedPromise, cancelPromise]),\n",
              "    response: {\n",
              "      action: 'starting',\n",
              "    }\n",
              "  };\n",
              "\n",
              "  cancel.remove();\n",
              "\n",
              "  // Disable the input element since further picks are not allowed.\n",
              "  inputElement.disabled = true;\n",
              "\n",
              "  if (!files) {\n",
              "    return {\n",
              "      response: {\n",
              "        action: 'complete',\n",
              "      }\n",
              "    };\n",
              "  }\n",
              "\n",
              "  for (const file of files) {\n",
              "    const li = document.createElement('li');\n",
              "    li.append(span(file.name, {fontWeight: 'bold'}));\n",
              "    li.append(span(\n",
              "        `(${file.type || 'n/a'}) - ${file.size} bytes, ` +\n",
              "        `last modified: ${\n",
              "            file.lastModifiedDate ? file.lastModifiedDate.toLocaleDateString() :\n",
              "                                    'n/a'} - `));\n",
              "    const percent = span('0% done');\n",
              "    li.appendChild(percent);\n",
              "\n",
              "    outputElement.appendChild(li);\n",
              "\n",
              "    const fileDataPromise = new Promise((resolve) => {\n",
              "      const reader = new FileReader();\n",
              "      reader.onload = (e) => {\n",
              "        resolve(e.target.result);\n",
              "      };\n",
              "      reader.readAsArrayBuffer(file);\n",
              "    });\n",
              "    // Wait for the data to be ready.\n",
              "    let fileData = yield {\n",
              "      promise: fileDataPromise,\n",
              "      response: {\n",
              "        action: 'continue',\n",
              "      }\n",
              "    };\n",
              "\n",
              "    // Use a chunked sending to avoid message size limits. See b/62115660.\n",
              "    let position = 0;\n",
              "    do {\n",
              "      const length = Math.min(fileData.byteLength - position, MAX_PAYLOAD_SIZE);\n",
              "      const chunk = new Uint8Array(fileData, position, length);\n",
              "      position += length;\n",
              "\n",
              "      const base64 = btoa(String.fromCharCode.apply(null, chunk));\n",
              "      yield {\n",
              "        response: {\n",
              "          action: 'append',\n",
              "          file: file.name,\n",
              "          data: base64,\n",
              "        },\n",
              "      };\n",
              "\n",
              "      let percentDone = fileData.byteLength === 0 ?\n",
              "          100 :\n",
              "          Math.round((position / fileData.byteLength) * 100);\n",
              "      percent.textContent = `${percentDone}% done`;\n",
              "\n",
              "    } while (position < fileData.byteLength);\n",
              "  }\n",
              "\n",
              "  // All done.\n",
              "  yield {\n",
              "    response: {\n",
              "      action: 'complete',\n",
              "    }\n",
              "  };\n",
              "}\n",
              "\n",
              "scope.google = scope.google || {};\n",
              "scope.google.colab = scope.google.colab || {};\n",
              "scope.google.colab._files = {\n",
              "  _uploadFiles,\n",
              "  _uploadFilesContinue,\n",
              "};\n",
              "})(self);\n",
              "</script> "
            ]
          },
          "metadata": {}
        },
        {
          "output_type": "stream",
          "name": "stdout",
          "text": [
            "Saving best.pt to best.pt\n",
            "done\n"
          ]
        }
      ],
      "source": [
        "# upload model\n",
        "from google.colab import files\n",
        "files.upload()\n",
        "print(\"done\")"
      ]
    },
    {
      "cell_type": "code",
      "source": [
        "!pip install ultralytics"
      ],
      "metadata": {
        "colab": {
          "base_uri": "https://localhost:8080/"
        },
        "id": "hl20Ot28oesA",
        "outputId": "a31f4421-b173-4ed9-a330-a523157b1c3b"
      },
      "execution_count": null,
      "outputs": [
        {
          "output_type": "stream",
          "name": "stdout",
          "text": [
            "Collecting ultralytics\n",
            "  Downloading ultralytics-8.1.42-py3-none-any.whl (749 kB)\n",
            "\u001b[2K     \u001b[90m━━━━━━━━━━━━━━━━━━━━━━━━━━━━━━━━━━━━━━━━\u001b[0m \u001b[32m749.1/749.1 kB\u001b[0m \u001b[31m4.1 MB/s\u001b[0m eta \u001b[36m0:00:00\u001b[0m\n",
            "\u001b[?25hRequirement already satisfied: matplotlib>=3.3.0 in /usr/local/lib/python3.10/dist-packages (from ultralytics) (3.7.1)\n",
            "Requirement already satisfied: opencv-python>=4.6.0 in /usr/local/lib/python3.10/dist-packages (from ultralytics) (4.8.0.76)\n",
            "Requirement already satisfied: pillow>=7.1.2 in /usr/local/lib/python3.10/dist-packages (from ultralytics) (9.4.0)\n",
            "Requirement already satisfied: pyyaml>=5.3.1 in /usr/local/lib/python3.10/dist-packages (from ultralytics) (6.0.1)\n",
            "Requirement already satisfied: requests>=2.23.0 in /usr/local/lib/python3.10/dist-packages (from ultralytics) (2.31.0)\n",
            "Requirement already satisfied: scipy>=1.4.1 in /usr/local/lib/python3.10/dist-packages (from ultralytics) (1.11.4)\n",
            "Requirement already satisfied: torch>=1.8.0 in /usr/local/lib/python3.10/dist-packages (from ultralytics) (2.2.1+cu121)\n",
            "Requirement already satisfied: torchvision>=0.9.0 in /usr/local/lib/python3.10/dist-packages (from ultralytics) (0.17.1+cu121)\n",
            "Requirement already satisfied: tqdm>=4.64.0 in /usr/local/lib/python3.10/dist-packages (from ultralytics) (4.66.2)\n",
            "Requirement already satisfied: psutil in /usr/local/lib/python3.10/dist-packages (from ultralytics) (5.9.5)\n",
            "Requirement already satisfied: py-cpuinfo in /usr/local/lib/python3.10/dist-packages (from ultralytics) (9.0.0)\n",
            "Collecting thop>=0.1.1 (from ultralytics)\n",
            "  Downloading thop-0.1.1.post2209072238-py3-none-any.whl (15 kB)\n",
            "Requirement already satisfied: pandas>=1.1.4 in /usr/local/lib/python3.10/dist-packages (from ultralytics) (1.5.3)\n",
            "Requirement already satisfied: seaborn>=0.11.0 in /usr/local/lib/python3.10/dist-packages (from ultralytics) (0.13.1)\n",
            "Requirement already satisfied: contourpy>=1.0.1 in /usr/local/lib/python3.10/dist-packages (from matplotlib>=3.3.0->ultralytics) (1.2.0)\n",
            "Requirement already satisfied: cycler>=0.10 in /usr/local/lib/python3.10/dist-packages (from matplotlib>=3.3.0->ultralytics) (0.12.1)\n",
            "Requirement already satisfied: fonttools>=4.22.0 in /usr/local/lib/python3.10/dist-packages (from matplotlib>=3.3.0->ultralytics) (4.50.0)\n",
            "Requirement already satisfied: kiwisolver>=1.0.1 in /usr/local/lib/python3.10/dist-packages (from matplotlib>=3.3.0->ultralytics) (1.4.5)\n",
            "Requirement already satisfied: numpy>=1.20 in /usr/local/lib/python3.10/dist-packages (from matplotlib>=3.3.0->ultralytics) (1.25.2)\n",
            "Requirement already satisfied: packaging>=20.0 in /usr/local/lib/python3.10/dist-packages (from matplotlib>=3.3.0->ultralytics) (24.0)\n",
            "Requirement already satisfied: pyparsing>=2.3.1 in /usr/local/lib/python3.10/dist-packages (from matplotlib>=3.3.0->ultralytics) (3.1.2)\n",
            "Requirement already satisfied: python-dateutil>=2.7 in /usr/local/lib/python3.10/dist-packages (from matplotlib>=3.3.0->ultralytics) (2.8.2)\n",
            "Requirement already satisfied: pytz>=2020.1 in /usr/local/lib/python3.10/dist-packages (from pandas>=1.1.4->ultralytics) (2023.4)\n",
            "Requirement already satisfied: charset-normalizer<4,>=2 in /usr/local/lib/python3.10/dist-packages (from requests>=2.23.0->ultralytics) (3.3.2)\n",
            "Requirement already satisfied: idna<4,>=2.5 in /usr/local/lib/python3.10/dist-packages (from requests>=2.23.0->ultralytics) (3.6)\n",
            "Requirement already satisfied: urllib3<3,>=1.21.1 in /usr/local/lib/python3.10/dist-packages (from requests>=2.23.0->ultralytics) (2.0.7)\n",
            "Requirement already satisfied: certifi>=2017.4.17 in /usr/local/lib/python3.10/dist-packages (from requests>=2.23.0->ultralytics) (2024.2.2)\n",
            "Requirement already satisfied: filelock in /usr/local/lib/python3.10/dist-packages (from torch>=1.8.0->ultralytics) (3.13.3)\n",
            "Requirement already satisfied: typing-extensions>=4.8.0 in /usr/local/lib/python3.10/dist-packages (from torch>=1.8.0->ultralytics) (4.10.0)\n",
            "Requirement already satisfied: sympy in /usr/local/lib/python3.10/dist-packages (from torch>=1.8.0->ultralytics) (1.12)\n",
            "Requirement already satisfied: networkx in /usr/local/lib/python3.10/dist-packages (from torch>=1.8.0->ultralytics) (3.2.1)\n",
            "Requirement already satisfied: jinja2 in /usr/local/lib/python3.10/dist-packages (from torch>=1.8.0->ultralytics) (3.1.3)\n",
            "Requirement already satisfied: fsspec in /usr/local/lib/python3.10/dist-packages (from torch>=1.8.0->ultralytics) (2023.6.0)\n",
            "Collecting nvidia-cuda-nvrtc-cu12==12.1.105 (from torch>=1.8.0->ultralytics)\n",
            "  Downloading nvidia_cuda_nvrtc_cu12-12.1.105-py3-none-manylinux1_x86_64.whl (23.7 MB)\n",
            "\u001b[2K     \u001b[90m━━━━━━━━━━━━━━━━━━━━━━━━━━━━━━━━━━━━━━━━\u001b[0m \u001b[32m23.7/23.7 MB\u001b[0m \u001b[31m27.4 MB/s\u001b[0m eta \u001b[36m0:00:00\u001b[0m\n",
            "\u001b[?25hCollecting nvidia-cuda-runtime-cu12==12.1.105 (from torch>=1.8.0->ultralytics)\n",
            "  Downloading nvidia_cuda_runtime_cu12-12.1.105-py3-none-manylinux1_x86_64.whl (823 kB)\n",
            "\u001b[2K     \u001b[90m━━━━━━━━━━━━━━━━━━━━━━━━━━━━━━━━━━━━━━━━\u001b[0m \u001b[32m823.6/823.6 kB\u001b[0m \u001b[31m46.1 MB/s\u001b[0m eta \u001b[36m0:00:00\u001b[0m\n",
            "\u001b[?25hCollecting nvidia-cuda-cupti-cu12==12.1.105 (from torch>=1.8.0->ultralytics)\n",
            "  Downloading nvidia_cuda_cupti_cu12-12.1.105-py3-none-manylinux1_x86_64.whl (14.1 MB)\n",
            "\u001b[2K     \u001b[90m━━━━━━━━━━━━━━━━━━━━━━━━━━━━━━━━━━━━━━━━\u001b[0m \u001b[32m14.1/14.1 MB\u001b[0m \u001b[31m33.2 MB/s\u001b[0m eta \u001b[36m0:00:00\u001b[0m\n",
            "\u001b[?25hCollecting nvidia-cudnn-cu12==8.9.2.26 (from torch>=1.8.0->ultralytics)\n",
            "  Downloading nvidia_cudnn_cu12-8.9.2.26-py3-none-manylinux1_x86_64.whl (731.7 MB)\n",
            "\u001b[2K     \u001b[90m━━━━━━━━━━━━━━━━━━━━━━━━━━━━━━━━━━━━━━━━\u001b[0m \u001b[32m731.7/731.7 MB\u001b[0m \u001b[31m1.2 MB/s\u001b[0m eta \u001b[36m0:00:00\u001b[0m\n",
            "\u001b[?25hCollecting nvidia-cublas-cu12==12.1.3.1 (from torch>=1.8.0->ultralytics)\n",
            "  Downloading nvidia_cublas_cu12-12.1.3.1-py3-none-manylinux1_x86_64.whl (410.6 MB)\n",
            "\u001b[2K     \u001b[90m━━━━━━━━━━━━━━━━━━━━━━━━━━━━━━━━━━━━━━━━\u001b[0m \u001b[32m410.6/410.6 MB\u001b[0m \u001b[31m1.4 MB/s\u001b[0m eta \u001b[36m0:00:00\u001b[0m\n",
            "\u001b[?25hCollecting nvidia-cufft-cu12==11.0.2.54 (from torch>=1.8.0->ultralytics)\n",
            "  Downloading nvidia_cufft_cu12-11.0.2.54-py3-none-manylinux1_x86_64.whl (121.6 MB)\n",
            "\u001b[2K     \u001b[90m━━━━━━━━━━━━━━━━━━━━━━━━━━━━━━━━━━━━━━━━\u001b[0m \u001b[32m121.6/121.6 MB\u001b[0m \u001b[31m1.8 MB/s\u001b[0m eta \u001b[36m0:00:00\u001b[0m\n",
            "\u001b[?25hCollecting nvidia-curand-cu12==10.3.2.106 (from torch>=1.8.0->ultralytics)\n",
            "  Downloading nvidia_curand_cu12-10.3.2.106-py3-none-manylinux1_x86_64.whl (56.5 MB)\n",
            "\u001b[2K     \u001b[90m━━━━━━━━━━━━━━━━━━━━━━━━━━━━━━━━━━━━━━━━\u001b[0m \u001b[32m56.5/56.5 MB\u001b[0m \u001b[31m4.9 MB/s\u001b[0m eta \u001b[36m0:00:00\u001b[0m\n",
            "\u001b[?25hCollecting nvidia-cusolver-cu12==11.4.5.107 (from torch>=1.8.0->ultralytics)\n",
            "  Downloading nvidia_cusolver_cu12-11.4.5.107-py3-none-manylinux1_x86_64.whl (124.2 MB)\n",
            "\u001b[2K     \u001b[90m━━━━━━━━━━━━━━━━━━━━━━━━━━━━━━━━━━━━━━━━\u001b[0m \u001b[32m124.2/124.2 MB\u001b[0m \u001b[31m2.8 MB/s\u001b[0m eta \u001b[36m0:00:00\u001b[0m\n",
            "\u001b[?25hCollecting nvidia-cusparse-cu12==12.1.0.106 (from torch>=1.8.0->ultralytics)\n",
            "  Downloading nvidia_cusparse_cu12-12.1.0.106-py3-none-manylinux1_x86_64.whl (196.0 MB)\n",
            "\u001b[2K     \u001b[90m━━━━━━━━━━━━━━━━━━━━━━━━━━━━━━━━━━━━━━━━\u001b[0m \u001b[32m196.0/196.0 MB\u001b[0m \u001b[31m2.0 MB/s\u001b[0m eta \u001b[36m0:00:00\u001b[0m\n",
            "\u001b[?25hCollecting nvidia-nccl-cu12==2.19.3 (from torch>=1.8.0->ultralytics)\n",
            "  Downloading nvidia_nccl_cu12-2.19.3-py3-none-manylinux1_x86_64.whl (166.0 MB)\n",
            "\u001b[2K     \u001b[90m━━━━━━━━━━━━━━━━━━━━━━━━━━━━━━━━━━━━━━━━\u001b[0m \u001b[32m166.0/166.0 MB\u001b[0m \u001b[31m2.9 MB/s\u001b[0m eta \u001b[36m0:00:00\u001b[0m\n",
            "\u001b[?25hCollecting nvidia-nvtx-cu12==12.1.105 (from torch>=1.8.0->ultralytics)\n",
            "  Downloading nvidia_nvtx_cu12-12.1.105-py3-none-manylinux1_x86_64.whl (99 kB)\n",
            "\u001b[2K     \u001b[90m━━━━━━━━━━━━━━━━━━━━━━━━━━━━━━━━━━━━━━━━\u001b[0m \u001b[32m99.1/99.1 kB\u001b[0m \u001b[31m5.8 MB/s\u001b[0m eta \u001b[36m0:00:00\u001b[0m\n",
            "\u001b[?25hRequirement already satisfied: triton==2.2.0 in /usr/local/lib/python3.10/dist-packages (from torch>=1.8.0->ultralytics) (2.2.0)\n",
            "Collecting nvidia-nvjitlink-cu12 (from nvidia-cusolver-cu12==11.4.5.107->torch>=1.8.0->ultralytics)\n",
            "  Downloading nvidia_nvjitlink_cu12-12.4.99-py3-none-manylinux2014_x86_64.whl (21.1 MB)\n",
            "\u001b[2K     \u001b[90m━━━━━━━━━━━━━━━━━━━━━━━━━━━━━━━━━━━━━━━━\u001b[0m \u001b[32m21.1/21.1 MB\u001b[0m \u001b[31m4.5 MB/s\u001b[0m eta \u001b[36m0:00:00\u001b[0m\n",
            "\u001b[?25hRequirement already satisfied: six>=1.5 in /usr/local/lib/python3.10/dist-packages (from python-dateutil>=2.7->matplotlib>=3.3.0->ultralytics) (1.16.0)\n",
            "Requirement already satisfied: MarkupSafe>=2.0 in /usr/local/lib/python3.10/dist-packages (from jinja2->torch>=1.8.0->ultralytics) (2.1.5)\n",
            "Requirement already satisfied: mpmath>=0.19 in /usr/local/lib/python3.10/dist-packages (from sympy->torch>=1.8.0->ultralytics) (1.3.0)\n",
            "Installing collected packages: nvidia-nvtx-cu12, nvidia-nvjitlink-cu12, nvidia-nccl-cu12, nvidia-curand-cu12, nvidia-cufft-cu12, nvidia-cuda-runtime-cu12, nvidia-cuda-nvrtc-cu12, nvidia-cuda-cupti-cu12, nvidia-cublas-cu12, nvidia-cusparse-cu12, nvidia-cudnn-cu12, nvidia-cusolver-cu12, thop, ultralytics\n",
            "Successfully installed nvidia-cublas-cu12-12.1.3.1 nvidia-cuda-cupti-cu12-12.1.105 nvidia-cuda-nvrtc-cu12-12.1.105 nvidia-cuda-runtime-cu12-12.1.105 nvidia-cudnn-cu12-8.9.2.26 nvidia-cufft-cu12-11.0.2.54 nvidia-curand-cu12-10.3.2.106 nvidia-cusolver-cu12-11.4.5.107 nvidia-cusparse-cu12-12.1.0.106 nvidia-nccl-cu12-2.19.3 nvidia-nvjitlink-cu12-12.4.99 nvidia-nvtx-cu12-12.1.105 thop-0.1.1.post2209072238 ultralytics-8.1.42\n"
          ]
        }
      ]
    },
    {
      "cell_type": "markdown",
      "source": [
        "# Prediction"
      ],
      "metadata": {
        "id": "Ny9tHNdk8D6o"
      }
    },
    {
      "cell_type": "code",
      "execution_count": null,
      "metadata": {
        "colab": {
          "base_uri": "https://localhost:8080/"
        },
        "id": "2HnpP66492gv",
        "outputId": "23fb9938-a415-4d0f-d40f-bb11638aa4ef"
      },
      "outputs": [
        {
          "output_type": "stream",
          "name": "stdout",
          "text": [
            "WARNING ⚠️ Environment does not support cv2.imshow() or PIL Image.show()\n",
            "\n",
            "\n",
            "image 1/1 /content/mars_crater--63-_jpg.rf.ab0440022651f886c68744a55eb215d9.jpg: 640x640 (no detections), 1115.2ms\n",
            "Speed: 3.8ms preprocess, 1115.2ms inference, 1.2ms postprocess per image at shape (1, 3, 640, 640)\n",
            "Results saved to \u001b[1mruns/detect/predict8\u001b[0m\n"
          ]
        }
      ],
      "source": [
        "from ultralytics import YOLO\n",
        "import cv2\n",
        "\n",
        "# if continuing with the same runtime\n",
        "\n",
        "# choose which training run's model you would like to use\n",
        "# train_run = \"train\" # every time the model gets trained, a new directory with\n",
        "# the weights and results is created as train1, train2, etc.\n",
        "\n",
        "# Load a model\n",
        "# model = YOLO(f'/content/runs/detect/{train_run}/weights/best.pt')  # pretrained YOLOv8n model\n",
        "\n",
        "# else\n",
        "model = YOLO('/content/best.pt')\n",
        "\n",
        "# make prediction\n",
        "result = model.predict('/content/mars_crater--63-_jpg.rf.ab0440022651f886c68744a55eb215d9.jpg', conf = 0.2, save=True, show=True)"
      ]
    },
    {
      "cell_type": "code",
      "execution_count": null,
      "metadata": {
        "id": "eE2zfmId-2Sy",
        "colab": {
          "base_uri": "https://localhost:8080/"
        },
        "outputId": "5379d2f1-e6b2-4600-bf14-43a04376ee70"
      },
      "outputs": [
        {
          "output_type": "stream",
          "name": "stdout",
          "text": [
            "  adding: content/runs/ (stored 0%)\n",
            "  adding: content/runs/detect/ (stored 0%)\n",
            "  adding: content/runs/detect/predict4/ (stored 0%)\n",
            "  adding: content/runs/detect/predict4/mars_crater--63-_jpg.rf.ab0440022651f886c68744a55eb215d9.jpg (deflated 7%)\n",
            "  adding: content/runs/detect/predict5/ (stored 0%)\n",
            "  adding: content/runs/detect/predict5/mars_crater--63-_jpg.rf.ab0440022651f886c68744a55eb215d9.jpg (deflated 7%)\n",
            "  adding: content/runs/detect/predict/ (stored 0%)\n",
            "  adding: content/runs/detect/predict/05_png.rf.844343145246e51e66a345419e1862bf.jpg (deflated 5%)\n",
            "  adding: content/runs/detect/predict3/ (stored 0%)\n",
            "  adding: content/runs/detect/predict3/mars_crater--29-_jpg.rf.719ff6d6c1aafd71147c173f7d224018.jpg (deflated 5%)\n",
            "  adding: content/runs/detect/predict2/ (stored 0%)\n",
            "  adding: content/runs/detect/predict2/mars_crater--31-_jpg.rf.5030dfd316db1570d5f2ad396fa87d4d.jpg (deflated 6%)\n"
          ]
        }
      ],
      "source": [
        "!zip -r /content/runs.zip /content/runs"
      ]
    },
    {
      "cell_type": "code",
      "source": [
        "files.download('/content/runs.zip')"
      ],
      "metadata": {
        "colab": {
          "base_uri": "https://localhost:8080/",
          "height": 17
        },
        "id": "dc7pC6QjrSRw",
        "outputId": "dcde64b2-5090-470f-97fc-77fb2fe116a7"
      },
      "execution_count": null,
      "outputs": [
        {
          "output_type": "display_data",
          "data": {
            "text/plain": [
              "<IPython.core.display.Javascript object>"
            ],
            "application/javascript": [
              "\n",
              "    async function download(id, filename, size) {\n",
              "      if (!google.colab.kernel.accessAllowed) {\n",
              "        return;\n",
              "      }\n",
              "      const div = document.createElement('div');\n",
              "      const label = document.createElement('label');\n",
              "      label.textContent = `Downloading \"${filename}\": `;\n",
              "      div.appendChild(label);\n",
              "      const progress = document.createElement('progress');\n",
              "      progress.max = size;\n",
              "      div.appendChild(progress);\n",
              "      document.body.appendChild(div);\n",
              "\n",
              "      const buffers = [];\n",
              "      let downloaded = 0;\n",
              "\n",
              "      const channel = await google.colab.kernel.comms.open(id);\n",
              "      // Send a message to notify the kernel that we're ready.\n",
              "      channel.send({})\n",
              "\n",
              "      for await (const message of channel.messages) {\n",
              "        // Send a message to notify the kernel that we're ready.\n",
              "        channel.send({})\n",
              "        if (message.buffers) {\n",
              "          for (const buffer of message.buffers) {\n",
              "            buffers.push(buffer);\n",
              "            downloaded += buffer.byteLength;\n",
              "            progress.value = downloaded;\n",
              "          }\n",
              "        }\n",
              "      }\n",
              "      const blob = new Blob(buffers, {type: 'application/binary'});\n",
              "      const a = document.createElement('a');\n",
              "      a.href = window.URL.createObjectURL(blob);\n",
              "      a.download = filename;\n",
              "      div.appendChild(a);\n",
              "      a.click();\n",
              "      div.remove();\n",
              "    }\n",
              "  "
            ]
          },
          "metadata": {}
        },
        {
          "output_type": "display_data",
          "data": {
            "text/plain": [
              "<IPython.core.display.Javascript object>"
            ],
            "application/javascript": [
              "download(\"download_e9ad3599-8da9-4858-9898-8afc7316a827\", \"runs.zip\", 132480)"
            ]
          },
          "metadata": {}
        }
      ]
    },
    {
      "cell_type": "code",
      "source": [],
      "metadata": {
        "id": "RUgsw4GgrV4I"
      },
      "execution_count": null,
      "outputs": []
    }
  ],
  "metadata": {
    "colab": {
      "provenance": [],
      "gpuType": "T4"
    },
    "kernelspec": {
      "display_name": "Python 3",
      "name": "python3"
    },
    "language_info": {
      "name": "python"
    },
    "accelerator": "GPU"
  },
  "nbformat": 4,
  "nbformat_minor": 0
}